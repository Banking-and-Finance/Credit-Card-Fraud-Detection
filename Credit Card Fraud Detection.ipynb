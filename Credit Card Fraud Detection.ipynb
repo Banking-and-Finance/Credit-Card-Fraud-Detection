{
 "cells": [
  {
   "cell_type": "markdown",
   "metadata": {
    "colab_type": "text",
    "id": "8eSR9jBFP9OG"
   },
   "source": [
    "<h3> Before anything I wanted to shoutout <a href=\"https://www.kaggle.com/janiobachmann/credit-fraud-dealing-with-imbalanced-datasets/\"> this Kernel by Janio Martinez </a> </h3>\n",
    "    \n",
    "It has been huge in helping me understand what was going on and was also a great source for other references that I could use to understand how to apply machine learning concepts to imbalanced datasets."
   ]
  },
  {
   "cell_type": "code",
   "execution_count": 3,
   "metadata": {
    "_cell_guid": "b1076dfc-b9ad-4769-8c92-a6c4dae69d19",
    "_uuid": "8f2839f25d086af736a60e9eeb907d3b93b6e0e5",
    "colab": {
     "base_uri": "https://localhost:8080/",
     "height": 141
    },
    "colab_type": "code",
    "id": "EljgfgMIP9OL",
    "outputId": "fedb9f82-cdc9-4fbf-cb4f-ea60baa878a1"
   },
   "outputs": [
    {
     "name": "stderr",
     "output_type": "stream",
     "text": [
      "/usr/local/lib/python3.6/dist-packages/sklearn/externals/six.py:31: FutureWarning: The module is deprecated in version 0.21 and will be removed in version 0.23 since we've dropped support for Python 2.7. Please rely on the official version of six (https://pypi.org/project/six/).\n",
      "  \"(https://pypi.org/project/six/).\", FutureWarning)\n",
      "/usr/local/lib/python3.6/dist-packages/sklearn/utils/deprecation.py:144: FutureWarning: The sklearn.neighbors.base module is  deprecated in version 0.22 and will be removed in version 0.24. The corresponding classes / functions should instead be imported from sklearn.neighbors. Anything that cannot be imported from sklearn.neighbors is now part of the private API.\n",
      "  warnings.warn(message, FutureWarning)\n",
      "/usr/local/lib/python3.6/dist-packages/sklearn/utils/deprecation.py:144: FutureWarning: The sklearn.metrics.classification module is  deprecated in version 0.22 and will be removed in version 0.24. The corresponding classes / functions should instead be imported from sklearn.metrics. Anything that cannot be imported from sklearn.metrics is now part of the private API.\n",
      "  warnings.warn(message, FutureWarning)\n"
     ]
    }
   ],
   "source": [
    "# This Python 3 environment comes with many helpful analytics libraries installed\n",
    "# It is defined by the kaggle/python docker image: https://github.com/kaggle/docker-python\n",
    "# For example, here's several helpful packages to load in \n",
    "\n",
    "# Imported Libraries\n",
    "import numpy as np # linear algebra\n",
    "import pandas as pd # data processing, CSV file I/O (e.g. pd.read_csv)\n",
    "\n",
    "# Classifier Library\n",
    "from sklearn.linear_model import LogisticRegression\n",
    "\n",
    "# Model Selection & Pipelines\n",
    "from sklearn.model_selection import train_test_split\n",
    "from sklearn.pipeline import make_pipeline\n",
    "from imblearn.pipeline import make_pipeline as make_pipeline_imb\n",
    "from sklearn.model_selection import KFold, StratifiedKFold\n",
    "\n",
    "# Metrics\n",
    "from imblearn.metrics import classification_report_imbalanced\n",
    "from sklearn.metrics import precision_score, recall_score, f1_score, roc_auc_score, accuracy_score, classification_report\n",
    "\n",
    "import warnings\n",
    "warnings.filterwarnings(\"ignore\")"
   ]
  },
  {
   "cell_type": "code",
   "execution_count": 0,
   "metadata": {
    "_cell_guid": "79c7e3d0-c299-4dcb-8224-4455121ee9b0",
    "_uuid": "d629ff2d2480ee46fbb7e2d37f6b5fab8052498a",
    "colab": {},
    "colab_type": "code",
    "id": "6-K_nc99P9On"
   },
   "outputs": [],
   "source": [
    "import matplotlib.pyplot as plt\n",
    "import seaborn as sns\n",
    "\n",
    "%matplotlib inline"
   ]
  },
  {
   "cell_type": "code",
   "execution_count": 5,
   "metadata": {
    "colab": {
     "base_uri": "https://localhost:8080/",
     "height": 124
    },
    "colab_type": "code",
    "id": "SGO01FHiYFuT",
    "outputId": "ef5a18f7-f6f2-470d-c295-aa0c154ba8b1"
   },
   "outputs": [
    {
     "name": "stdout",
     "output_type": "stream",
     "text": [
      "Go to this URL in a browser: https://accounts.google.com/o/oauth2/auth?client_id=947318989803-6bn6qk8qdgf4n4g3pfee6491hc0brc4i.apps.googleusercontent.com&redirect_uri=urn%3aietf%3awg%3aoauth%3a2.0%3aoob&response_type=code&scope=email%20https%3a%2f%2fwww.googleapis.com%2fauth%2fdocs.test%20https%3a%2f%2fwww.googleapis.com%2fauth%2fdrive%20https%3a%2f%2fwww.googleapis.com%2fauth%2fdrive.photos.readonly%20https%3a%2f%2fwww.googleapis.com%2fauth%2fpeopleapi.readonly\n",
      "\n",
      "Enter your authorization code:\n",
      "··········\n",
      "Mounted at /content/drive\n"
     ]
    }
   ],
   "source": [
    "# Only when working on Colab\n",
    "from google.colab import drive\n",
    "drive.mount('/content/drive')"
   ]
  },
  {
   "cell_type": "code",
   "execution_count": 0,
   "metadata": {
    "colab": {},
    "colab_type": "code",
    "id": "vCpcjGWWYGg_"
   },
   "outputs": [],
   "source": [
    "# Only on Colab\n",
    "#path = \"/content/drive/My Drive/Colab Notebooks/creditcard.csv\"\n",
    "path = 'creditcard.csv'"
   ]
  },
  {
   "cell_type": "code",
   "execution_count": 0,
   "metadata": {
    "colab": {},
    "colab_type": "code",
    "id": "XYmTzqpTP9O9"
   },
   "outputs": [],
   "source": [
    "data = pd.read_csv(path)"
   ]
  },
  {
   "cell_type": "code",
   "execution_count": 8,
   "metadata": {
    "colab": {
     "base_uri": "https://localhost:8080/",
     "height": 226
    },
    "colab_type": "code",
    "id": "25p2eIFJP9PS",
    "outputId": "b568fabc-a894-46b1-a143-885b0e233e39"
   },
   "outputs": [
    {
     "data": {
      "text/html": [
       "<div>\n",
       "<style scoped>\n",
       "    .dataframe tbody tr th:only-of-type {\n",
       "        vertical-align: middle;\n",
       "    }\n",
       "\n",
       "    .dataframe tbody tr th {\n",
       "        vertical-align: top;\n",
       "    }\n",
       "\n",
       "    .dataframe thead th {\n",
       "        text-align: right;\n",
       "    }\n",
       "</style>\n",
       "<table border=\"1\" class=\"dataframe\">\n",
       "  <thead>\n",
       "    <tr style=\"text-align: right;\">\n",
       "      <th></th>\n",
       "      <th>Time</th>\n",
       "      <th>V1</th>\n",
       "      <th>V2</th>\n",
       "      <th>V3</th>\n",
       "      <th>V4</th>\n",
       "      <th>V5</th>\n",
       "      <th>V6</th>\n",
       "      <th>V7</th>\n",
       "      <th>V8</th>\n",
       "      <th>V9</th>\n",
       "      <th>V10</th>\n",
       "      <th>V11</th>\n",
       "      <th>V12</th>\n",
       "      <th>V13</th>\n",
       "      <th>V14</th>\n",
       "      <th>V15</th>\n",
       "      <th>V16</th>\n",
       "      <th>V17</th>\n",
       "      <th>V18</th>\n",
       "      <th>V19</th>\n",
       "      <th>V20</th>\n",
       "      <th>V21</th>\n",
       "      <th>V22</th>\n",
       "      <th>V23</th>\n",
       "      <th>V24</th>\n",
       "      <th>V25</th>\n",
       "      <th>V26</th>\n",
       "      <th>V27</th>\n",
       "      <th>V28</th>\n",
       "      <th>Amount</th>\n",
       "      <th>Class</th>\n",
       "    </tr>\n",
       "  </thead>\n",
       "  <tbody>\n",
       "    <tr>\n",
       "      <th>0</th>\n",
       "      <td>0.0</td>\n",
       "      <td>-1.359807</td>\n",
       "      <td>-0.072781</td>\n",
       "      <td>2.536347</td>\n",
       "      <td>1.378155</td>\n",
       "      <td>-0.338321</td>\n",
       "      <td>0.462388</td>\n",
       "      <td>0.239599</td>\n",
       "      <td>0.098698</td>\n",
       "      <td>0.363787</td>\n",
       "      <td>0.090794</td>\n",
       "      <td>-0.551600</td>\n",
       "      <td>-0.617801</td>\n",
       "      <td>-0.991390</td>\n",
       "      <td>-0.311169</td>\n",
       "      <td>1.468177</td>\n",
       "      <td>-0.470401</td>\n",
       "      <td>0.207971</td>\n",
       "      <td>0.025791</td>\n",
       "      <td>0.403993</td>\n",
       "      <td>0.251412</td>\n",
       "      <td>-0.018307</td>\n",
       "      <td>0.277838</td>\n",
       "      <td>-0.110474</td>\n",
       "      <td>0.066928</td>\n",
       "      <td>0.128539</td>\n",
       "      <td>-0.189115</td>\n",
       "      <td>0.133558</td>\n",
       "      <td>-0.021053</td>\n",
       "      <td>149.62</td>\n",
       "      <td>0</td>\n",
       "    </tr>\n",
       "    <tr>\n",
       "      <th>1</th>\n",
       "      <td>0.0</td>\n",
       "      <td>1.191857</td>\n",
       "      <td>0.266151</td>\n",
       "      <td>0.166480</td>\n",
       "      <td>0.448154</td>\n",
       "      <td>0.060018</td>\n",
       "      <td>-0.082361</td>\n",
       "      <td>-0.078803</td>\n",
       "      <td>0.085102</td>\n",
       "      <td>-0.255425</td>\n",
       "      <td>-0.166974</td>\n",
       "      <td>1.612727</td>\n",
       "      <td>1.065235</td>\n",
       "      <td>0.489095</td>\n",
       "      <td>-0.143772</td>\n",
       "      <td>0.635558</td>\n",
       "      <td>0.463917</td>\n",
       "      <td>-0.114805</td>\n",
       "      <td>-0.183361</td>\n",
       "      <td>-0.145783</td>\n",
       "      <td>-0.069083</td>\n",
       "      <td>-0.225775</td>\n",
       "      <td>-0.638672</td>\n",
       "      <td>0.101288</td>\n",
       "      <td>-0.339846</td>\n",
       "      <td>0.167170</td>\n",
       "      <td>0.125895</td>\n",
       "      <td>-0.008983</td>\n",
       "      <td>0.014724</td>\n",
       "      <td>2.69</td>\n",
       "      <td>0</td>\n",
       "    </tr>\n",
       "    <tr>\n",
       "      <th>2</th>\n",
       "      <td>1.0</td>\n",
       "      <td>-1.358354</td>\n",
       "      <td>-1.340163</td>\n",
       "      <td>1.773209</td>\n",
       "      <td>0.379780</td>\n",
       "      <td>-0.503198</td>\n",
       "      <td>1.800499</td>\n",
       "      <td>0.791461</td>\n",
       "      <td>0.247676</td>\n",
       "      <td>-1.514654</td>\n",
       "      <td>0.207643</td>\n",
       "      <td>0.624501</td>\n",
       "      <td>0.066084</td>\n",
       "      <td>0.717293</td>\n",
       "      <td>-0.165946</td>\n",
       "      <td>2.345865</td>\n",
       "      <td>-2.890083</td>\n",
       "      <td>1.109969</td>\n",
       "      <td>-0.121359</td>\n",
       "      <td>-2.261857</td>\n",
       "      <td>0.524980</td>\n",
       "      <td>0.247998</td>\n",
       "      <td>0.771679</td>\n",
       "      <td>0.909412</td>\n",
       "      <td>-0.689281</td>\n",
       "      <td>-0.327642</td>\n",
       "      <td>-0.139097</td>\n",
       "      <td>-0.055353</td>\n",
       "      <td>-0.059752</td>\n",
       "      <td>378.66</td>\n",
       "      <td>0</td>\n",
       "    </tr>\n",
       "    <tr>\n",
       "      <th>3</th>\n",
       "      <td>1.0</td>\n",
       "      <td>-0.966272</td>\n",
       "      <td>-0.185226</td>\n",
       "      <td>1.792993</td>\n",
       "      <td>-0.863291</td>\n",
       "      <td>-0.010309</td>\n",
       "      <td>1.247203</td>\n",
       "      <td>0.237609</td>\n",
       "      <td>0.377436</td>\n",
       "      <td>-1.387024</td>\n",
       "      <td>-0.054952</td>\n",
       "      <td>-0.226487</td>\n",
       "      <td>0.178228</td>\n",
       "      <td>0.507757</td>\n",
       "      <td>-0.287924</td>\n",
       "      <td>-0.631418</td>\n",
       "      <td>-1.059647</td>\n",
       "      <td>-0.684093</td>\n",
       "      <td>1.965775</td>\n",
       "      <td>-1.232622</td>\n",
       "      <td>-0.208038</td>\n",
       "      <td>-0.108300</td>\n",
       "      <td>0.005274</td>\n",
       "      <td>-0.190321</td>\n",
       "      <td>-1.175575</td>\n",
       "      <td>0.647376</td>\n",
       "      <td>-0.221929</td>\n",
       "      <td>0.062723</td>\n",
       "      <td>0.061458</td>\n",
       "      <td>123.50</td>\n",
       "      <td>0</td>\n",
       "    </tr>\n",
       "    <tr>\n",
       "      <th>4</th>\n",
       "      <td>2.0</td>\n",
       "      <td>-1.158233</td>\n",
       "      <td>0.877737</td>\n",
       "      <td>1.548718</td>\n",
       "      <td>0.403034</td>\n",
       "      <td>-0.407193</td>\n",
       "      <td>0.095921</td>\n",
       "      <td>0.592941</td>\n",
       "      <td>-0.270533</td>\n",
       "      <td>0.817739</td>\n",
       "      <td>0.753074</td>\n",
       "      <td>-0.822843</td>\n",
       "      <td>0.538196</td>\n",
       "      <td>1.345852</td>\n",
       "      <td>-1.119670</td>\n",
       "      <td>0.175121</td>\n",
       "      <td>-0.451449</td>\n",
       "      <td>-0.237033</td>\n",
       "      <td>-0.038195</td>\n",
       "      <td>0.803487</td>\n",
       "      <td>0.408542</td>\n",
       "      <td>-0.009431</td>\n",
       "      <td>0.798278</td>\n",
       "      <td>-0.137458</td>\n",
       "      <td>0.141267</td>\n",
       "      <td>-0.206010</td>\n",
       "      <td>0.502292</td>\n",
       "      <td>0.219422</td>\n",
       "      <td>0.215153</td>\n",
       "      <td>69.99</td>\n",
       "      <td>0</td>\n",
       "    </tr>\n",
       "  </tbody>\n",
       "</table>\n",
       "</div>"
      ],
      "text/plain": [
       "   Time        V1        V2        V3  ...       V27       V28  Amount  Class\n",
       "0   0.0 -1.359807 -0.072781  2.536347  ...  0.133558 -0.021053  149.62      0\n",
       "1   0.0  1.191857  0.266151  0.166480  ... -0.008983  0.014724    2.69      0\n",
       "2   1.0 -1.358354 -1.340163  1.773209  ... -0.055353 -0.059752  378.66      0\n",
       "3   1.0 -0.966272 -0.185226  1.792993  ...  0.062723  0.061458  123.50      0\n",
       "4   2.0 -1.158233  0.877737  1.548718  ...  0.219422  0.215153   69.99      0\n",
       "\n",
       "[5 rows x 31 columns]"
      ]
     },
     "execution_count": 8,
     "metadata": {
      "tags": []
     },
     "output_type": "execute_result"
    }
   ],
   "source": [
    "data.head()"
   ]
  },
  {
   "cell_type": "code",
   "execution_count": 9,
   "metadata": {
    "colab": {
     "base_uri": "https://localhost:8080/",
     "height": 677
    },
    "colab_type": "code",
    "id": "VuffTboPP9Pj",
    "outputId": "29cea1c2-888b-4629-b771-79a7923ce443"
   },
   "outputs": [
    {
     "name": "stdout",
     "output_type": "stream",
     "text": [
      "<class 'pandas.core.frame.DataFrame'>\n",
      "RangeIndex: 284807 entries, 0 to 284806\n",
      "Data columns (total 31 columns):\n",
      " #   Column  Non-Null Count   Dtype  \n",
      "---  ------  --------------   -----  \n",
      " 0   Time    284807 non-null  float64\n",
      " 1   V1      284807 non-null  float64\n",
      " 2   V2      284807 non-null  float64\n",
      " 3   V3      284807 non-null  float64\n",
      " 4   V4      284807 non-null  float64\n",
      " 5   V5      284807 non-null  float64\n",
      " 6   V6      284807 non-null  float64\n",
      " 7   V7      284807 non-null  float64\n",
      " 8   V8      284807 non-null  float64\n",
      " 9   V9      284807 non-null  float64\n",
      " 10  V10     284807 non-null  float64\n",
      " 11  V11     284807 non-null  float64\n",
      " 12  V12     284807 non-null  float64\n",
      " 13  V13     284807 non-null  float64\n",
      " 14  V14     284807 non-null  float64\n",
      " 15  V15     284807 non-null  float64\n",
      " 16  V16     284807 non-null  float64\n",
      " 17  V17     284807 non-null  float64\n",
      " 18  V18     284807 non-null  float64\n",
      " 19  V19     284807 non-null  float64\n",
      " 20  V20     284807 non-null  float64\n",
      " 21  V21     284807 non-null  float64\n",
      " 22  V22     284807 non-null  float64\n",
      " 23  V23     284807 non-null  float64\n",
      " 24  V24     284807 non-null  float64\n",
      " 25  V25     284807 non-null  float64\n",
      " 26  V26     284807 non-null  float64\n",
      " 27  V27     284807 non-null  float64\n",
      " 28  V28     284807 non-null  float64\n",
      " 29  Amount  284807 non-null  float64\n",
      " 30  Class   284807 non-null  int64  \n",
      "dtypes: float64(30), int64(1)\n",
      "memory usage: 67.4 MB\n"
     ]
    }
   ],
   "source": [
    "data.info()"
   ]
  },
  {
   "cell_type": "code",
   "execution_count": 10,
   "metadata": {
    "colab": {
     "base_uri": "https://localhost:8080/",
     "height": 320
    },
    "colab_type": "code",
    "id": "v0N4fnxlP9Px",
    "outputId": "f6ac63fd-cea7-465f-c96a-c7b827cbdc90"
   },
   "outputs": [
    {
     "data": {
      "text/html": [
       "<div>\n",
       "<style scoped>\n",
       "    .dataframe tbody tr th:only-of-type {\n",
       "        vertical-align: middle;\n",
       "    }\n",
       "\n",
       "    .dataframe tbody tr th {\n",
       "        vertical-align: top;\n",
       "    }\n",
       "\n",
       "    .dataframe thead th {\n",
       "        text-align: right;\n",
       "    }\n",
       "</style>\n",
       "<table border=\"1\" class=\"dataframe\">\n",
       "  <thead>\n",
       "    <tr style=\"text-align: right;\">\n",
       "      <th></th>\n",
       "      <th>Time</th>\n",
       "      <th>V1</th>\n",
       "      <th>V2</th>\n",
       "      <th>V3</th>\n",
       "      <th>V4</th>\n",
       "      <th>V5</th>\n",
       "      <th>V6</th>\n",
       "      <th>V7</th>\n",
       "      <th>V8</th>\n",
       "      <th>V9</th>\n",
       "      <th>V10</th>\n",
       "      <th>V11</th>\n",
       "      <th>V12</th>\n",
       "      <th>V13</th>\n",
       "      <th>V14</th>\n",
       "      <th>V15</th>\n",
       "      <th>V16</th>\n",
       "      <th>V17</th>\n",
       "      <th>V18</th>\n",
       "      <th>V19</th>\n",
       "      <th>V20</th>\n",
       "      <th>V21</th>\n",
       "      <th>V22</th>\n",
       "      <th>V23</th>\n",
       "      <th>V24</th>\n",
       "      <th>V25</th>\n",
       "      <th>V26</th>\n",
       "      <th>V27</th>\n",
       "      <th>V28</th>\n",
       "      <th>Amount</th>\n",
       "      <th>Class</th>\n",
       "    </tr>\n",
       "  </thead>\n",
       "  <tbody>\n",
       "    <tr>\n",
       "      <th>count</th>\n",
       "      <td>284807.000000</td>\n",
       "      <td>2.848070e+05</td>\n",
       "      <td>2.848070e+05</td>\n",
       "      <td>2.848070e+05</td>\n",
       "      <td>2.848070e+05</td>\n",
       "      <td>2.848070e+05</td>\n",
       "      <td>2.848070e+05</td>\n",
       "      <td>2.848070e+05</td>\n",
       "      <td>2.848070e+05</td>\n",
       "      <td>2.848070e+05</td>\n",
       "      <td>2.848070e+05</td>\n",
       "      <td>2.848070e+05</td>\n",
       "      <td>2.848070e+05</td>\n",
       "      <td>2.848070e+05</td>\n",
       "      <td>2.848070e+05</td>\n",
       "      <td>2.848070e+05</td>\n",
       "      <td>2.848070e+05</td>\n",
       "      <td>2.848070e+05</td>\n",
       "      <td>2.848070e+05</td>\n",
       "      <td>2.848070e+05</td>\n",
       "      <td>2.848070e+05</td>\n",
       "      <td>2.848070e+05</td>\n",
       "      <td>2.848070e+05</td>\n",
       "      <td>2.848070e+05</td>\n",
       "      <td>2.848070e+05</td>\n",
       "      <td>2.848070e+05</td>\n",
       "      <td>2.848070e+05</td>\n",
       "      <td>2.848070e+05</td>\n",
       "      <td>2.848070e+05</td>\n",
       "      <td>284807.000000</td>\n",
       "      <td>284807.000000</td>\n",
       "    </tr>\n",
       "    <tr>\n",
       "      <th>mean</th>\n",
       "      <td>94813.859575</td>\n",
       "      <td>3.919560e-15</td>\n",
       "      <td>5.688174e-16</td>\n",
       "      <td>-8.769071e-15</td>\n",
       "      <td>2.782312e-15</td>\n",
       "      <td>-1.552563e-15</td>\n",
       "      <td>2.010663e-15</td>\n",
       "      <td>-1.694249e-15</td>\n",
       "      <td>-1.927028e-16</td>\n",
       "      <td>-3.137024e-15</td>\n",
       "      <td>1.768627e-15</td>\n",
       "      <td>9.170318e-16</td>\n",
       "      <td>-1.810658e-15</td>\n",
       "      <td>1.693438e-15</td>\n",
       "      <td>1.479045e-15</td>\n",
       "      <td>3.482336e-15</td>\n",
       "      <td>1.392007e-15</td>\n",
       "      <td>-7.528491e-16</td>\n",
       "      <td>4.328772e-16</td>\n",
       "      <td>9.049732e-16</td>\n",
       "      <td>5.085503e-16</td>\n",
       "      <td>1.537294e-16</td>\n",
       "      <td>7.959909e-16</td>\n",
       "      <td>5.367590e-16</td>\n",
       "      <td>4.458112e-15</td>\n",
       "      <td>1.453003e-15</td>\n",
       "      <td>1.699104e-15</td>\n",
       "      <td>-3.660161e-16</td>\n",
       "      <td>-1.206049e-16</td>\n",
       "      <td>88.349619</td>\n",
       "      <td>0.001727</td>\n",
       "    </tr>\n",
       "    <tr>\n",
       "      <th>std</th>\n",
       "      <td>47488.145955</td>\n",
       "      <td>1.958696e+00</td>\n",
       "      <td>1.651309e+00</td>\n",
       "      <td>1.516255e+00</td>\n",
       "      <td>1.415869e+00</td>\n",
       "      <td>1.380247e+00</td>\n",
       "      <td>1.332271e+00</td>\n",
       "      <td>1.237094e+00</td>\n",
       "      <td>1.194353e+00</td>\n",
       "      <td>1.098632e+00</td>\n",
       "      <td>1.088850e+00</td>\n",
       "      <td>1.020713e+00</td>\n",
       "      <td>9.992014e-01</td>\n",
       "      <td>9.952742e-01</td>\n",
       "      <td>9.585956e-01</td>\n",
       "      <td>9.153160e-01</td>\n",
       "      <td>8.762529e-01</td>\n",
       "      <td>8.493371e-01</td>\n",
       "      <td>8.381762e-01</td>\n",
       "      <td>8.140405e-01</td>\n",
       "      <td>7.709250e-01</td>\n",
       "      <td>7.345240e-01</td>\n",
       "      <td>7.257016e-01</td>\n",
       "      <td>6.244603e-01</td>\n",
       "      <td>6.056471e-01</td>\n",
       "      <td>5.212781e-01</td>\n",
       "      <td>4.822270e-01</td>\n",
       "      <td>4.036325e-01</td>\n",
       "      <td>3.300833e-01</td>\n",
       "      <td>250.120109</td>\n",
       "      <td>0.041527</td>\n",
       "    </tr>\n",
       "    <tr>\n",
       "      <th>min</th>\n",
       "      <td>0.000000</td>\n",
       "      <td>-5.640751e+01</td>\n",
       "      <td>-7.271573e+01</td>\n",
       "      <td>-4.832559e+01</td>\n",
       "      <td>-5.683171e+00</td>\n",
       "      <td>-1.137433e+02</td>\n",
       "      <td>-2.616051e+01</td>\n",
       "      <td>-4.355724e+01</td>\n",
       "      <td>-7.321672e+01</td>\n",
       "      <td>-1.343407e+01</td>\n",
       "      <td>-2.458826e+01</td>\n",
       "      <td>-4.797473e+00</td>\n",
       "      <td>-1.868371e+01</td>\n",
       "      <td>-5.791881e+00</td>\n",
       "      <td>-1.921433e+01</td>\n",
       "      <td>-4.498945e+00</td>\n",
       "      <td>-1.412985e+01</td>\n",
       "      <td>-2.516280e+01</td>\n",
       "      <td>-9.498746e+00</td>\n",
       "      <td>-7.213527e+00</td>\n",
       "      <td>-5.449772e+01</td>\n",
       "      <td>-3.483038e+01</td>\n",
       "      <td>-1.093314e+01</td>\n",
       "      <td>-4.480774e+01</td>\n",
       "      <td>-2.836627e+00</td>\n",
       "      <td>-1.029540e+01</td>\n",
       "      <td>-2.604551e+00</td>\n",
       "      <td>-2.256568e+01</td>\n",
       "      <td>-1.543008e+01</td>\n",
       "      <td>0.000000</td>\n",
       "      <td>0.000000</td>\n",
       "    </tr>\n",
       "    <tr>\n",
       "      <th>25%</th>\n",
       "      <td>54201.500000</td>\n",
       "      <td>-9.203734e-01</td>\n",
       "      <td>-5.985499e-01</td>\n",
       "      <td>-8.903648e-01</td>\n",
       "      <td>-8.486401e-01</td>\n",
       "      <td>-6.915971e-01</td>\n",
       "      <td>-7.682956e-01</td>\n",
       "      <td>-5.540759e-01</td>\n",
       "      <td>-2.086297e-01</td>\n",
       "      <td>-6.430976e-01</td>\n",
       "      <td>-5.354257e-01</td>\n",
       "      <td>-7.624942e-01</td>\n",
       "      <td>-4.055715e-01</td>\n",
       "      <td>-6.485393e-01</td>\n",
       "      <td>-4.255740e-01</td>\n",
       "      <td>-5.828843e-01</td>\n",
       "      <td>-4.680368e-01</td>\n",
       "      <td>-4.837483e-01</td>\n",
       "      <td>-4.988498e-01</td>\n",
       "      <td>-4.562989e-01</td>\n",
       "      <td>-2.117214e-01</td>\n",
       "      <td>-2.283949e-01</td>\n",
       "      <td>-5.423504e-01</td>\n",
       "      <td>-1.618463e-01</td>\n",
       "      <td>-3.545861e-01</td>\n",
       "      <td>-3.171451e-01</td>\n",
       "      <td>-3.269839e-01</td>\n",
       "      <td>-7.083953e-02</td>\n",
       "      <td>-5.295979e-02</td>\n",
       "      <td>5.600000</td>\n",
       "      <td>0.000000</td>\n",
       "    </tr>\n",
       "    <tr>\n",
       "      <th>50%</th>\n",
       "      <td>84692.000000</td>\n",
       "      <td>1.810880e-02</td>\n",
       "      <td>6.548556e-02</td>\n",
       "      <td>1.798463e-01</td>\n",
       "      <td>-1.984653e-02</td>\n",
       "      <td>-5.433583e-02</td>\n",
       "      <td>-2.741871e-01</td>\n",
       "      <td>4.010308e-02</td>\n",
       "      <td>2.235804e-02</td>\n",
       "      <td>-5.142873e-02</td>\n",
       "      <td>-9.291738e-02</td>\n",
       "      <td>-3.275735e-02</td>\n",
       "      <td>1.400326e-01</td>\n",
       "      <td>-1.356806e-02</td>\n",
       "      <td>5.060132e-02</td>\n",
       "      <td>4.807155e-02</td>\n",
       "      <td>6.641332e-02</td>\n",
       "      <td>-6.567575e-02</td>\n",
       "      <td>-3.636312e-03</td>\n",
       "      <td>3.734823e-03</td>\n",
       "      <td>-6.248109e-02</td>\n",
       "      <td>-2.945017e-02</td>\n",
       "      <td>6.781943e-03</td>\n",
       "      <td>-1.119293e-02</td>\n",
       "      <td>4.097606e-02</td>\n",
       "      <td>1.659350e-02</td>\n",
       "      <td>-5.213911e-02</td>\n",
       "      <td>1.342146e-03</td>\n",
       "      <td>1.124383e-02</td>\n",
       "      <td>22.000000</td>\n",
       "      <td>0.000000</td>\n",
       "    </tr>\n",
       "    <tr>\n",
       "      <th>75%</th>\n",
       "      <td>139320.500000</td>\n",
       "      <td>1.315642e+00</td>\n",
       "      <td>8.037239e-01</td>\n",
       "      <td>1.027196e+00</td>\n",
       "      <td>7.433413e-01</td>\n",
       "      <td>6.119264e-01</td>\n",
       "      <td>3.985649e-01</td>\n",
       "      <td>5.704361e-01</td>\n",
       "      <td>3.273459e-01</td>\n",
       "      <td>5.971390e-01</td>\n",
       "      <td>4.539234e-01</td>\n",
       "      <td>7.395934e-01</td>\n",
       "      <td>6.182380e-01</td>\n",
       "      <td>6.625050e-01</td>\n",
       "      <td>4.931498e-01</td>\n",
       "      <td>6.488208e-01</td>\n",
       "      <td>5.232963e-01</td>\n",
       "      <td>3.996750e-01</td>\n",
       "      <td>5.008067e-01</td>\n",
       "      <td>4.589494e-01</td>\n",
       "      <td>1.330408e-01</td>\n",
       "      <td>1.863772e-01</td>\n",
       "      <td>5.285536e-01</td>\n",
       "      <td>1.476421e-01</td>\n",
       "      <td>4.395266e-01</td>\n",
       "      <td>3.507156e-01</td>\n",
       "      <td>2.409522e-01</td>\n",
       "      <td>9.104512e-02</td>\n",
       "      <td>7.827995e-02</td>\n",
       "      <td>77.165000</td>\n",
       "      <td>0.000000</td>\n",
       "    </tr>\n",
       "    <tr>\n",
       "      <th>max</th>\n",
       "      <td>172792.000000</td>\n",
       "      <td>2.454930e+00</td>\n",
       "      <td>2.205773e+01</td>\n",
       "      <td>9.382558e+00</td>\n",
       "      <td>1.687534e+01</td>\n",
       "      <td>3.480167e+01</td>\n",
       "      <td>7.330163e+01</td>\n",
       "      <td>1.205895e+02</td>\n",
       "      <td>2.000721e+01</td>\n",
       "      <td>1.559499e+01</td>\n",
       "      <td>2.374514e+01</td>\n",
       "      <td>1.201891e+01</td>\n",
       "      <td>7.848392e+00</td>\n",
       "      <td>7.126883e+00</td>\n",
       "      <td>1.052677e+01</td>\n",
       "      <td>8.877742e+00</td>\n",
       "      <td>1.731511e+01</td>\n",
       "      <td>9.253526e+00</td>\n",
       "      <td>5.041069e+00</td>\n",
       "      <td>5.591971e+00</td>\n",
       "      <td>3.942090e+01</td>\n",
       "      <td>2.720284e+01</td>\n",
       "      <td>1.050309e+01</td>\n",
       "      <td>2.252841e+01</td>\n",
       "      <td>4.584549e+00</td>\n",
       "      <td>7.519589e+00</td>\n",
       "      <td>3.517346e+00</td>\n",
       "      <td>3.161220e+01</td>\n",
       "      <td>3.384781e+01</td>\n",
       "      <td>25691.160000</td>\n",
       "      <td>1.000000</td>\n",
       "    </tr>\n",
       "  </tbody>\n",
       "</table>\n",
       "</div>"
      ],
      "text/plain": [
       "                Time            V1  ...         Amount          Class\n",
       "count  284807.000000  2.848070e+05  ...  284807.000000  284807.000000\n",
       "mean    94813.859575  3.919560e-15  ...      88.349619       0.001727\n",
       "std     47488.145955  1.958696e+00  ...     250.120109       0.041527\n",
       "min         0.000000 -5.640751e+01  ...       0.000000       0.000000\n",
       "25%     54201.500000 -9.203734e-01  ...       5.600000       0.000000\n",
       "50%     84692.000000  1.810880e-02  ...      22.000000       0.000000\n",
       "75%    139320.500000  1.315642e+00  ...      77.165000       0.000000\n",
       "max    172792.000000  2.454930e+00  ...   25691.160000       1.000000\n",
       "\n",
       "[8 rows x 31 columns]"
      ]
     },
     "execution_count": 10,
     "metadata": {
      "tags": []
     },
     "output_type": "execute_result"
    }
   ],
   "source": [
    "data.describe()"
   ]
  },
  {
   "cell_type": "code",
   "execution_count": 11,
   "metadata": {
    "colab": {
     "base_uri": "https://localhost:8080/",
     "height": 297
    },
    "colab_type": "code",
    "id": "tXf6S-9xP9QA",
    "outputId": "02022f0f-3569-46ae-a57d-ac2940136b45"
   },
   "outputs": [
    {
     "data": {
      "image/png": "[encoded data removed]",
      "text/plain": [
       "<Figure size 432x288 with 1 Axes>"
      ]
     },
     "metadata": {
      "tags": []
     },
     "output_type": "display_data"
    }
   ],
   "source": [
    "sns.heatmap(data.isnull(), cbar=False, yticklabels=False, cmap='viridis')\n",
    "plt.tight_layout()"
   ]
  },
  {
   "cell_type": "markdown",
   "metadata": {
    "colab_type": "text",
    "id": "ysr4vLppP9QM"
   },
   "source": [
    "# There are no missing values in the dataset.\n"
   ]
  },
  {
   "cell_type": "code",
   "execution_count": 12,
   "metadata": {
    "colab": {
     "base_uri": "https://localhost:8080/",
     "height": 457
    },
    "colab_type": "code",
    "id": "ddA8qt5GP9QO",
    "outputId": "3efde765-4319-4450-d29d-8f3cf6baa2f9"
   },
   "outputs": [
    {
     "name": "stdout",
     "output_type": "stream",
     "text": [
      "AxesSubplot(0.125,0.125;0.775x0.755)\n"
     ]
    },
    {
     "data": {
      "text/plain": [
       "0    99.827251\n",
       "1     0.172749\n",
       "Name: Class, dtype: float64"
      ]
     },
     "execution_count": 12,
     "metadata": {
      "tags": []
     },
     "output_type": "execute_result"
    },
    {
     "data": {
      "image/png": "[encoded data removed]",
      "text/plain": [
       "<Figure size 720x432 with 1 Axes>"
      ]
     },
     "metadata": {
      "tags": []
     },
     "output_type": "display_data"
    }
   ],
   "source": [
    "plt.figure(figsize=(10,6))\n",
    "print(sns.countplot(x='Class', data=data))\n",
    "data['Class'].value_counts(normalize=True) * 100"
   ]
  },
  {
   "cell_type": "markdown",
   "metadata": {
    "colab_type": "text",
    "id": "Q5uc10oFP9Qb"
   },
   "source": [
    "# Dataset is highly imbalanced\n",
    "<h3> 99.83% Non-Fraudulent Transactions\n",
    "\n",
    "0.173% Fraudulent Transactions\n",
    "\n",
    "Hence, we require either oversampling or undersampling </h3>"
   ]
  },
  {
   "cell_type": "markdown",
   "metadata": {
    "colab_type": "text",
    "id": "EhDQ3wIuP9Qe"
   },
   "source": [
    "# Distribution of Amount & Time columns"
   ]
  },
  {
   "cell_type": "code",
   "execution_count": 13,
   "metadata": {
    "colab": {
     "base_uri": "https://localhost:8080/",
     "height": 405
    },
    "colab_type": "code",
    "id": "VukQTQGKP9Qg",
    "outputId": "94ce44d6-af38-4c46-fc7c-7578b6fed23b"
   },
   "outputs": [
    {
     "data": {
      "text/plain": [
       "<matplotlib.axes._subplots.AxesSubplot at 0x7fac60e176a0>"
      ]
     },
     "execution_count": 13,
     "metadata": {
      "tags": []
     },
     "output_type": "execute_result"
    },
    {
     "data": {
      "image/png": "[encoded data removed]",
      "text/plain": [
       "<Figure size 720x432 with 1 Axes>"
      ]
     },
     "metadata": {
      "tags": []
     },
     "output_type": "display_data"
    }
   ],
   "source": [
    "plt.figure(figsize=(10, 6))\n",
    "sns.distplot(data['Amount'], bins=100)"
   ]
  },
  {
   "cell_type": "markdown",
   "metadata": {
    "colab_type": "text",
    "id": "CzGkhD-GP9Qv"
   },
   "source": [
    "<h3> Amount of transactions are generally very low, most are less than 1000 and max. tend to be around 1500 </h3>"
   ]
  },
  {
   "cell_type": "code",
   "execution_count": 14,
   "metadata": {
    "colab": {
     "base_uri": "https://localhost:8080/",
     "height": 307
    },
    "colab_type": "code",
    "id": "WFhD_GSrP9Qx",
    "outputId": "fc06aff4-d714-4e7d-9e7d-664d83c4aaa5"
   },
   "outputs": [
    {
     "data": {
      "text/plain": [
       "<matplotlib.axes._subplots.AxesSubplot at 0x7fac5cc36a90>"
      ]
     },
     "execution_count": 14,
     "metadata": {
      "tags": []
     },
     "output_type": "execute_result"
    },
    {
     "data": {
      "image/png": "[encoded data removed]",
      "text/plain": [
       "<Figure size 432x288 with 1 Axes>"
      ]
     },
     "metadata": {
      "tags": []
     },
     "output_type": "display_data"
    }
   ],
   "source": [
    "sns.distplot(data['Time'])"
   ]
  },
  {
   "cell_type": "markdown",
   "metadata": {
    "colab_type": "text",
    "id": "37D3-g0lP9Q-"
   },
   "source": [
    "# Performing train test split\n",
    "\n",
    "Setting the stratify parameter of train_test_split to y <br> This will ensure that y_train and y_test will have approximately the same distribution of labels (i.e. Fraud and Non-Fraud Transactions) as you can see in the output"
   ]
  },
  {
   "cell_type": "code",
   "execution_count": 15,
   "metadata": {
    "colab": {
     "base_uri": "https://localhost:8080/",
     "height": 156
    },
    "colab_type": "code",
    "id": "LMRUMRUXP9RB",
    "outputId": "51a30ca1-b67c-4223-94f9-34e0cadc47b5"
   },
   "outputs": [
    {
     "name": "stdout",
     "output_type": "stream",
     "text": [
      "Class Label Distribution for y_train: \n",
      "0    0.998271\n",
      "1    0.001729\n",
      "Name: Class, dtype: float64\n",
      "Class Label Distribution for y_test: \n",
      "0    0.99828\n",
      "1    0.00172\n",
      "Name: Class, dtype: float64\n"
     ]
    }
   ],
   "source": [
    "X = data.drop('Class', axis=1)\n",
    "y = data['Class']\n",
    "\n",
    "# train_index and test_index are a list of indices obtained from the StratifiedKFold.split() method\n",
    "# We perform iloc on the X and y dataframes to get X_train, X_test and y_train, y_test\n",
    "# and both y_test and y_train have same distribution of 0 and 1 class values, i.e, approx. 99.82% and 0.17% respectively\n",
    "X_train, X_test, y_train, y_test = train_test_split(X, y, test_size=0.2, stratify=y)\n",
    "    \n",
    "print(\"Class Label Distribution for y_train: \")\n",
    "print(y_train.value_counts(normalize=True))\n",
    "print(\"Class Label Distribution for y_test: \")\n",
    "print(y_test.value_counts(normalize=True))"
   ]
  },
  {
   "cell_type": "markdown",
   "metadata": {
    "colab_type": "text",
    "id": "MvvWNFrSP9RO"
   },
   "source": [
    "<h2> Thus we get train and test splits with the same mean value for the response variable (Class) </h2>"
   ]
  },
  {
   "cell_type": "markdown",
   "metadata": {
    "colab_type": "text",
    "id": "81jX1F13P9RR"
   },
   "source": [
    "A tip that I found while researching on how to implement a model on such a dataset is that instead of directly scaling the entire dataset using one of the scaler objects, you should perform the foll. steps:\n",
    "1. Perform train test split\n",
    "2. Fit the Scaler object on the train data\n",
    "3. Now scale the train as well as the test data on this Scaler that was fit on the <b> train data only. </b>\n",
    "\n",
    "The reason why you should do this is that now, scaling is done using the information obtained from the training data only thereby reducing the bias that would been incurred had we directly scaled the entire dataset at once."
   ]
  },
  {
   "cell_type": "code",
   "execution_count": 16,
   "metadata": {
    "colab": {
     "base_uri": "https://localhost:8080/",
     "height": 226
    },
    "colab_type": "code",
    "id": "OJuXl5TpP9RT",
    "outputId": "225624d3-ab53-4629-cce3-6aae1cd03954"
   },
   "outputs": [
    {
     "data": {
      "text/html": [
       "<div>\n",
       "<style scoped>\n",
       "    .dataframe tbody tr th:only-of-type {\n",
       "        vertical-align: middle;\n",
       "    }\n",
       "\n",
       "    .dataframe tbody tr th {\n",
       "        vertical-align: top;\n",
       "    }\n",
       "\n",
       "    .dataframe thead th {\n",
       "        text-align: right;\n",
       "    }\n",
       "</style>\n",
       "<table border=\"1\" class=\"dataframe\">\n",
       "  <thead>\n",
       "    <tr style=\"text-align: right;\">\n",
       "      <th></th>\n",
       "      <th>Time</th>\n",
       "      <th>V1</th>\n",
       "      <th>V2</th>\n",
       "      <th>V3</th>\n",
       "      <th>V4</th>\n",
       "      <th>V5</th>\n",
       "      <th>V6</th>\n",
       "      <th>V7</th>\n",
       "      <th>V8</th>\n",
       "      <th>V9</th>\n",
       "      <th>V10</th>\n",
       "      <th>V11</th>\n",
       "      <th>V12</th>\n",
       "      <th>V13</th>\n",
       "      <th>V14</th>\n",
       "      <th>V15</th>\n",
       "      <th>V16</th>\n",
       "      <th>V17</th>\n",
       "      <th>V18</th>\n",
       "      <th>V19</th>\n",
       "      <th>V20</th>\n",
       "      <th>V21</th>\n",
       "      <th>V22</th>\n",
       "      <th>V23</th>\n",
       "      <th>V24</th>\n",
       "      <th>V25</th>\n",
       "      <th>V26</th>\n",
       "      <th>V27</th>\n",
       "      <th>V28</th>\n",
       "      <th>Amount</th>\n",
       "    </tr>\n",
       "  </thead>\n",
       "  <tbody>\n",
       "    <tr>\n",
       "      <th>0</th>\n",
       "      <td>0.641421</td>\n",
       "      <td>-0.294988</td>\n",
       "      <td>0.413458</td>\n",
       "      <td>-0.032789</td>\n",
       "      <td>0.004210</td>\n",
       "      <td>0.500328</td>\n",
       "      <td>-0.242496</td>\n",
       "      <td>0.196974</td>\n",
       "      <td>0.696049</td>\n",
       "      <td>-0.617665</td>\n",
       "      <td>-0.335099</td>\n",
       "      <td>0.305739</td>\n",
       "      <td>0.618757</td>\n",
       "      <td>0.061512</td>\n",
       "      <td>0.815910</td>\n",
       "      <td>-0.374609</td>\n",
       "      <td>-0.283471</td>\n",
       "      <td>-0.037905</td>\n",
       "      <td>0.003444</td>\n",
       "      <td>1.617528</td>\n",
       "      <td>0.220855</td>\n",
       "      <td>-0.077712</td>\n",
       "      <td>-0.350440</td>\n",
       "      <td>0.116067</td>\n",
       "      <td>-0.526715</td>\n",
       "      <td>-1.197828</td>\n",
       "      <td>0.615020</td>\n",
       "      <td>0.135918</td>\n",
       "      <td>0.229172</td>\n",
       "      <td>-0.278736</td>\n",
       "    </tr>\n",
       "    <tr>\n",
       "      <th>1</th>\n",
       "      <td>0.750735</td>\n",
       "      <td>0.037697</td>\n",
       "      <td>0.449843</td>\n",
       "      <td>-0.971235</td>\n",
       "      <td>-0.956625</td>\n",
       "      <td>2.444562</td>\n",
       "      <td>2.982501</td>\n",
       "      <td>0.286114</td>\n",
       "      <td>1.675102</td>\n",
       "      <td>-0.088890</td>\n",
       "      <td>-0.719076</td>\n",
       "      <td>0.112365</td>\n",
       "      <td>-0.288053</td>\n",
       "      <td>-0.314590</td>\n",
       "      <td>-0.871680</td>\n",
       "      <td>0.086888</td>\n",
       "      <td>0.150875</td>\n",
       "      <td>0.470616</td>\n",
       "      <td>-0.370647</td>\n",
       "      <td>-0.441916</td>\n",
       "      <td>0.354656</td>\n",
       "      <td>-0.729363</td>\n",
       "      <td>-0.853686</td>\n",
       "      <td>0.438042</td>\n",
       "      <td>0.695549</td>\n",
       "      <td>-0.654086</td>\n",
       "      <td>0.378558</td>\n",
       "      <td>1.494765</td>\n",
       "      <td>0.461935</td>\n",
       "      <td>-0.219037</td>\n",
       "    </tr>\n",
       "    <tr>\n",
       "      <th>2</th>\n",
       "      <td>-0.178572</td>\n",
       "      <td>-0.154915</td>\n",
       "      <td>-0.010093</td>\n",
       "      <td>0.340525</td>\n",
       "      <td>-0.819276</td>\n",
       "      <td>0.210600</td>\n",
       "      <td>0.606300</td>\n",
       "      <td>-0.079865</td>\n",
       "      <td>0.110888</td>\n",
       "      <td>-1.216843</td>\n",
       "      <td>0.790899</td>\n",
       "      <td>-0.300463</td>\n",
       "      <td>-0.659608</td>\n",
       "      <td>0.193111</td>\n",
       "      <td>0.119254</td>\n",
       "      <td>0.436899</td>\n",
       "      <td>-0.919432</td>\n",
       "      <td>-0.699821</td>\n",
       "      <td>2.218661</td>\n",
       "      <td>1.109211</td>\n",
       "      <td>-0.597523</td>\n",
       "      <td>-0.961736</td>\n",
       "      <td>-0.830328</td>\n",
       "      <td>-0.532988</td>\n",
       "      <td>-1.794872</td>\n",
       "      <td>-0.629461</td>\n",
       "      <td>1.888932</td>\n",
       "      <td>-0.508622</td>\n",
       "      <td>0.889157</td>\n",
       "      <td>0.027554</td>\n",
       "    </tr>\n",
       "    <tr>\n",
       "      <th>3</th>\n",
       "      <td>0.517676</td>\n",
       "      <td>0.634041</td>\n",
       "      <td>-0.325196</td>\n",
       "      <td>-1.840756</td>\n",
       "      <td>0.560631</td>\n",
       "      <td>0.648053</td>\n",
       "      <td>-0.950924</td>\n",
       "      <td>0.883454</td>\n",
       "      <td>-0.982338</td>\n",
       "      <td>0.080977</td>\n",
       "      <td>-1.304062</td>\n",
       "      <td>0.186330</td>\n",
       "      <td>-0.277546</td>\n",
       "      <td>0.389890</td>\n",
       "      <td>-3.215509</td>\n",
       "      <td>0.412567</td>\n",
       "      <td>0.844745</td>\n",
       "      <td>2.541391</td>\n",
       "      <td>0.909302</td>\n",
       "      <td>-0.608929</td>\n",
       "      <td>2.047637</td>\n",
       "      <td>0.250536</td>\n",
       "      <td>-0.373262</td>\n",
       "      <td>-0.784804</td>\n",
       "      <td>0.548336</td>\n",
       "      <td>0.007712</td>\n",
       "      <td>1.197762</td>\n",
       "      <td>-0.797517</td>\n",
       "      <td>0.406419</td>\n",
       "      <td>4.494573</td>\n",
       "    </tr>\n",
       "    <tr>\n",
       "      <th>4</th>\n",
       "      <td>0.284688</td>\n",
       "      <td>-0.199290</td>\n",
       "      <td>0.387080</td>\n",
       "      <td>1.550556</td>\n",
       "      <td>3.067828</td>\n",
       "      <td>0.260536</td>\n",
       "      <td>2.593476</td>\n",
       "      <td>-0.837319</td>\n",
       "      <td>0.589753</td>\n",
       "      <td>0.953375</td>\n",
       "      <td>1.016538</td>\n",
       "      <td>-0.985191</td>\n",
       "      <td>-2.560178</td>\n",
       "      <td>2.373631</td>\n",
       "      <td>-0.457124</td>\n",
       "      <td>-1.568630</td>\n",
       "      <td>-0.405744</td>\n",
       "      <td>1.112671</td>\n",
       "      <td>0.825170</td>\n",
       "      <td>1.745461</td>\n",
       "      <td>0.932465</td>\n",
       "      <td>-0.128909</td>\n",
       "      <td>0.664676</td>\n",
       "      <td>-1.077511</td>\n",
       "      <td>0.025314</td>\n",
       "      <td>-0.676698</td>\n",
       "      <td>0.922971</td>\n",
       "      <td>0.087828</td>\n",
       "      <td>-0.605274</td>\n",
       "      <td>0.103117</td>\n",
       "    </tr>\n",
       "  </tbody>\n",
       "</table>\n",
       "</div>"
      ],
      "text/plain": [
       "       Time        V1        V2  ...       V27       V28    Amount\n",
       "0  0.641421 -0.294988  0.413458  ...  0.135918  0.229172 -0.278736\n",
       "1  0.750735  0.037697  0.449843  ...  1.494765  0.461935 -0.219037\n",
       "2 -0.178572 -0.154915 -0.010093  ... -0.508622  0.889157  0.027554\n",
       "3  0.517676  0.634041 -0.325196  ... -0.797517  0.406419  4.494573\n",
       "4  0.284688 -0.199290  0.387080  ...  0.087828 -0.605274  0.103117\n",
       "\n",
       "[5 rows x 30 columns]"
      ]
     },
     "execution_count": 16,
     "metadata": {
      "tags": []
     },
     "output_type": "execute_result"
    }
   ],
   "source": [
    "from sklearn.preprocessing import RobustScaler\n",
    "\n",
    "# Using RobustScaler as it is less prone to outliers\n",
    "'''\n",
    "rob_scaler_time = RobustScaler().fit(X_train['Time'].values.reshape(-1, 1))\n",
    "X_train['Scaled_Time'] = rob_scaler_time.transform(X_train['Time'].values.reshape(-1, 1))\n",
    "X_test['Scaled_Time'] = rob_scaler_time.transform(X_test['Time'].values.reshape(-1, 1))\n",
    "\n",
    "rob_scaler_amount = RobustScaler().fit(X_train['Amount'].values.reshape(-1, 1))\n",
    "X_train['Scaled_Amount'] = rob_scaler_amount.transform(X_train['Amount'].values.reshape(-1, 1))\n",
    "X_test['Scaled_Amount'] = rob_scaler_amount.transform(X_test['Amount'].values.reshape(-1, 1))\n",
    "'''\n",
    "\n",
    "rob_scaler = RobustScaler().fit(X_train)\n",
    "X_train = pd.DataFrame(rob_scaler.transform(X_train), columns=X.columns)\n",
    "X_test = pd.DataFrame(rob_scaler.transform(X_test), columns=X.columns)\n",
    "\n",
    "X_train.head()"
   ]
  },
  {
   "cell_type": "code",
   "execution_count": 0,
   "metadata": {
    "colab": {},
    "colab_type": "code",
    "id": "M57oqIIiP9Re"
   },
   "outputs": [],
   "source": [
    "# X_train.drop(['Time','Amount'], axis=1, inplace=True)\n",
    "# X_test.drop(['Time','Amount'], axis=1, inplace=True)"
   ]
  },
  {
   "cell_type": "code",
   "execution_count": 17,
   "metadata": {
    "colab": {
     "base_uri": "https://localhost:8080/",
     "height": 226
    },
    "colab_type": "code",
    "id": "xEkD1UiVP9Rp",
    "outputId": "2a071729-4d27-4b50-e404-f168c62503a6"
   },
   "outputs": [
    {
     "data": {
      "text/html": [
       "<div>\n",
       "<style scoped>\n",
       "    .dataframe tbody tr th:only-of-type {\n",
       "        vertical-align: middle;\n",
       "    }\n",
       "\n",
       "    .dataframe tbody tr th {\n",
       "        vertical-align: top;\n",
       "    }\n",
       "\n",
       "    .dataframe thead th {\n",
       "        text-align: right;\n",
       "    }\n",
       "</style>\n",
       "<table border=\"1\" class=\"dataframe\">\n",
       "  <thead>\n",
       "    <tr style=\"text-align: right;\">\n",
       "      <th></th>\n",
       "      <th>Time</th>\n",
       "      <th>V1</th>\n",
       "      <th>V2</th>\n",
       "      <th>V3</th>\n",
       "      <th>V4</th>\n",
       "      <th>V5</th>\n",
       "      <th>V6</th>\n",
       "      <th>V7</th>\n",
       "      <th>V8</th>\n",
       "      <th>V9</th>\n",
       "      <th>V10</th>\n",
       "      <th>V11</th>\n",
       "      <th>V12</th>\n",
       "      <th>V13</th>\n",
       "      <th>V14</th>\n",
       "      <th>V15</th>\n",
       "      <th>V16</th>\n",
       "      <th>V17</th>\n",
       "      <th>V18</th>\n",
       "      <th>V19</th>\n",
       "      <th>V20</th>\n",
       "      <th>V21</th>\n",
       "      <th>V22</th>\n",
       "      <th>V23</th>\n",
       "      <th>V24</th>\n",
       "      <th>V25</th>\n",
       "      <th>V26</th>\n",
       "      <th>V27</th>\n",
       "      <th>V28</th>\n",
       "      <th>Amount</th>\n",
       "    </tr>\n",
       "  </thead>\n",
       "  <tbody>\n",
       "    <tr>\n",
       "      <th>0</th>\n",
       "      <td>-0.312419</td>\n",
       "      <td>-0.358621</td>\n",
       "      <td>0.566127</td>\n",
       "      <td>0.891499</td>\n",
       "      <td>0.797379</td>\n",
       "      <td>0.951619</td>\n",
       "      <td>-0.223320</td>\n",
       "      <td>0.788178</td>\n",
       "      <td>-0.383210</td>\n",
       "      <td>-0.829211</td>\n",
       "      <td>0.298189</td>\n",
       "      <td>-0.772153</td>\n",
       "      <td>-0.934666</td>\n",
       "      <td>-0.350832</td>\n",
       "      <td>-0.012238</td>\n",
       "      <td>-0.113759</td>\n",
       "      <td>0.916755</td>\n",
       "      <td>-1.251407</td>\n",
       "      <td>-0.181395</td>\n",
       "      <td>-1.524922</td>\n",
       "      <td>0.080808</td>\n",
       "      <td>-0.343895</td>\n",
       "      <td>-0.569257</td>\n",
       "      <td>-0.450022</td>\n",
       "      <td>-0.288431</td>\n",
       "      <td>-0.009853</td>\n",
       "      <td>-0.560430</td>\n",
       "      <td>-0.790662</td>\n",
       "      <td>-0.927928</td>\n",
       "      <td>-0.295822</td>\n",
       "    </tr>\n",
       "    <tr>\n",
       "      <th>1</th>\n",
       "      <td>0.806463</td>\n",
       "      <td>0.752976</td>\n",
       "      <td>-1.613893</td>\n",
       "      <td>-1.064401</td>\n",
       "      <td>-0.925891</td>\n",
       "      <td>-0.834570</td>\n",
       "      <td>-0.544815</td>\n",
       "      <td>-0.259255</td>\n",
       "      <td>-0.722490</td>\n",
       "      <td>-1.508792</td>\n",
       "      <td>1.829000</td>\n",
       "      <td>0.393695</td>\n",
       "      <td>-0.713554</td>\n",
       "      <td>-0.142158</td>\n",
       "      <td>0.367030</td>\n",
       "      <td>-0.431300</td>\n",
       "      <td>-0.361622</td>\n",
       "      <td>0.233567</td>\n",
       "      <td>0.316389</td>\n",
       "      <td>0.233465</td>\n",
       "      <td>0.719242</td>\n",
       "      <td>-0.155541</td>\n",
       "      <td>-0.607888</td>\n",
       "      <td>-0.060836</td>\n",
       "      <td>-0.533619</td>\n",
       "      <td>-0.479422</td>\n",
       "      <td>-0.517060</td>\n",
       "      <td>-0.571969</td>\n",
       "      <td>-0.209648</td>\n",
       "      <td>4.359331</td>\n",
       "    </tr>\n",
       "    <tr>\n",
       "      <th>2</th>\n",
       "      <td>-0.519524</td>\n",
       "      <td>-1.235410</td>\n",
       "      <td>-1.404099</td>\n",
       "      <td>0.534067</td>\n",
       "      <td>-2.645067</td>\n",
       "      <td>-0.394531</td>\n",
       "      <td>1.534931</td>\n",
       "      <td>-0.249617</td>\n",
       "      <td>1.603241</td>\n",
       "      <td>1.105248</td>\n",
       "      <td>-1.584098</td>\n",
       "      <td>0.721337</td>\n",
       "      <td>0.808193</td>\n",
       "      <td>-0.994567</td>\n",
       "      <td>-0.280774</td>\n",
       "      <td>-0.040441</td>\n",
       "      <td>-3.129404</td>\n",
       "      <td>1.133468</td>\n",
       "      <td>0.026220</td>\n",
       "      <td>-2.088066</td>\n",
       "      <td>-2.770040</td>\n",
       "      <td>-1.117262</td>\n",
       "      <td>-0.193539</td>\n",
       "      <td>0.420034</td>\n",
       "      <td>-1.783412</td>\n",
       "      <td>0.629788</td>\n",
       "      <td>-1.591467</td>\n",
       "      <td>0.555950</td>\n",
       "      <td>-2.178383</td>\n",
       "      <td>2.498329</td>\n",
       "    </tr>\n",
       "    <tr>\n",
       "      <th>3</th>\n",
       "      <td>0.533468</td>\n",
       "      <td>0.023291</td>\n",
       "      <td>0.580309</td>\n",
       "      <td>-0.432353</td>\n",
       "      <td>0.605882</td>\n",
       "      <td>1.174099</td>\n",
       "      <td>-0.216918</td>\n",
       "      <td>1.165320</td>\n",
       "      <td>-1.122031</td>\n",
       "      <td>-0.082666</td>\n",
       "      <td>0.690707</td>\n",
       "      <td>-0.952704</td>\n",
       "      <td>-0.075729</td>\n",
       "      <td>0.502814</td>\n",
       "      <td>-0.118439</td>\n",
       "      <td>-0.252899</td>\n",
       "      <td>-1.094940</td>\n",
       "      <td>-0.250428</td>\n",
       "      <td>-0.312578</td>\n",
       "      <td>0.981107</td>\n",
       "      <td>0.372293</td>\n",
       "      <td>0.030223</td>\n",
       "      <td>0.420235</td>\n",
       "      <td>-0.967165</td>\n",
       "      <td>-0.988434</td>\n",
       "      <td>0.427665</td>\n",
       "      <td>-0.565528</td>\n",
       "      <td>-0.944246</td>\n",
       "      <td>-1.406849</td>\n",
       "      <td>-0.010585</td>\n",
       "    </tr>\n",
       "    <tr>\n",
       "      <th>4</th>\n",
       "      <td>0.809565</td>\n",
       "      <td>-1.974471</td>\n",
       "      <td>1.053335</td>\n",
       "      <td>-1.311811</td>\n",
       "      <td>0.029754</td>\n",
       "      <td>-1.078799</td>\n",
       "      <td>-0.157225</td>\n",
       "      <td>-0.537973</td>\n",
       "      <td>3.951702</td>\n",
       "      <td>-0.904310</td>\n",
       "      <td>-2.452372</td>\n",
       "      <td>0.218263</td>\n",
       "      <td>1.700057</td>\n",
       "      <td>0.928589</td>\n",
       "      <td>0.017474</td>\n",
       "      <td>-0.739516</td>\n",
       "      <td>0.789438</td>\n",
       "      <td>2.288655</td>\n",
       "      <td>0.842616</td>\n",
       "      <td>1.009732</td>\n",
       "      <td>-2.456739</td>\n",
       "      <td>0.076383</td>\n",
       "      <td>-0.603791</td>\n",
       "      <td>-3.232351</td>\n",
       "      <td>-0.553785</td>\n",
       "      <td>0.880430</td>\n",
       "      <td>0.173902</td>\n",
       "      <td>-6.671874</td>\n",
       "      <td>-5.147853</td>\n",
       "      <td>1.922563</td>\n",
       "    </tr>\n",
       "  </tbody>\n",
       "</table>\n",
       "</div>"
      ],
      "text/plain": [
       "       Time        V1        V2  ...       V27       V28    Amount\n",
       "0 -0.312419 -0.358621  0.566127  ... -0.790662 -0.927928 -0.295822\n",
       "1  0.806463  0.752976 -1.613893  ... -0.571969 -0.209648  4.359331\n",
       "2 -0.519524 -1.235410 -1.404099  ...  0.555950 -2.178383  2.498329\n",
       "3  0.533468  0.023291  0.580309  ... -0.944246 -1.406849 -0.010585\n",
       "4  0.809565 -1.974471  1.053335  ... -6.671874 -5.147853  1.922563\n",
       "\n",
       "[5 rows x 30 columns]"
      ]
     },
     "execution_count": 17,
     "metadata": {
      "tags": []
     },
     "output_type": "execute_result"
    }
   ],
   "source": [
    "X_train.head()"
   ]
  },
  {
   "cell_type": "markdown",
   "metadata": {
    "colab_type": "text",
    "id": "GI7aJJOQP9R0"
   },
   "source": [
    "# <u> Hyperparameter Tuning of Logistic Regresion Model using Random Search</u>\n",
    "<h3> <a href=\"https://www.kaggle.com/willkoehrsen/intro-to-model-tuning-grid-and-random-search\"> This banger of a notebook by Will Koehrsen helped me a lot in understanding atleast the basics of hyperparameter tuning </a></h3>\n",
    "\n",
    "# Basic Hyperparameter Tuning components\n",
    "Objective function: takes in hyperparameters and returns the cross validation score we want to maximize or minimize\n",
    "\n",
    "Domain of hyperparameters: values over which we want to search\n",
    "\n",
    "Algorithm: method for selecting the next hyperparameter values to evaluate in the objective function\n",
    "\n",
    "Results: history of hyperparameters and cross validation scores\n",
    "\n",
    "# Grid Search\n",
    "For a given model, it takes in the domain of hyperparameter values and checks every possible combination to find which settings perform the best on an evaluation score specified. Very time consuming.\n",
    "\n",
    "\n",
    "# Random Search\n",
    "It takes in the domain as well, but it randomly selects the set of hyperparameters from the search space. Results in more evenly spaced out hyperparameter values and gives similar results to Grid Search albeit a bit lower. \n",
    "Generally used on an unknown dataset in order to get rough estimate of the domain in which the model performs well and then Grid Search can be implemented to increase the accuracy further. <br>Although in this model, I didn't really make the full use of the results of RandomSearch for GridSearch and just used the basic inbuilt functions."
   ]
  },
  {
   "cell_type": "markdown",
   "metadata": {
    "colab_type": "text",
    "id": "84FVHlcHP9R2"
   },
   "source": [
    "# Logistic Regression Hyperparameters\n",
    "<h3> I tuned just the penalty and C parameters </h3>\n",
    "\n",
    "Here is the docstring for the listed parameters\n",
    "\n",
    "1. penalty : str, 'l1', 'l2', 'elasticnet' or 'none', optional (default='l2')\n",
    "    Used to specify the norm used in the penalization. The 'newton-cg',\n",
    "    'sag' and 'lbfgs' solvers support only l2 penalties. 'elasticnet' is\n",
    "    only supported by the 'saga' solver. If 'none' (not supported by the\n",
    "    liblinear solver), no regularization is applied.\n",
    "\n",
    "    .. versionadded:: 0.19\n",
    "       l1 penalty with SAGA solver (allowing 'multinomial' + L1)\n",
    "\n",
    "2. C : float, optional (default=1.0)\n",
    "    Inverse of regularization strength; must be a positive float.\n",
    "    Like in support vector machines, smaller values specify stronger\n",
    "    regularization.\n",
    "\n",
    "3. solver : str, {'newton-cg', 'lbfgs', 'liblinear', 'sag', 'saga'},              optional (default='liblinear').\n",
    "\n",
    "    Algorithm to use in the optimization problem.\n",
    "\n",
    "    - For small datasets, 'liblinear' is a good choice, whereas 'sag' and\n",
    "      'saga' are faster for large ones.\n",
    "    - For multiclass problems, only 'newton-cg', 'sag', 'saga' and 'lbfgs'\n",
    "      handle multinomial loss; 'liblinear' is limited to one-versus-rest\n",
    "      schemes.\n",
    "    - 'newton-cg', 'lbfgs', 'sag' and 'saga' handle L2 or no penalty\n",
    "    - 'liblinear' and 'saga' also handle L1 penalty\n",
    "    - 'saga' also supports 'elasticnet' penalty\n",
    "    - 'liblinear' does not handle no penalty\n",
    "\n",
    "    Note that 'sag' and 'saga' fast convergence is only guaranteed on\n",
    "    features with approximately the same scale. You can\n",
    "    preprocess the data with a scaler from sklearn.preprocessing.\n",
    "\n",
    "    .. versionadded:: 0.17\n",
    "       Stochastic Average Gradient descent solver.\n",
    "    .. versionadded:: 0.19\n",
    "       SAGA solver.\n",
    "    .. versionchanged:: 0.20\n",
    "        Default will change from 'liblinear' to 'lbfgs' in 0.22."
   ]
  },
  {
   "cell_type": "markdown",
   "metadata": {
    "colab_type": "text",
    "id": "Bj08Yd7dP9R4"
   },
   "source": [
    "<h3> Hyperparameter grid dictionary: </h3>\n",
    "\n",
    "penalty takes values l1 and l2 which are the only two options available\n",
    "\n",
    "C is a list of 10 numbers containing the logspace from log10(0.001) to log10(1000) <br> Logspace is generally used for such parameters because we can cover a big range in a reasonable way in way fewer numbers as compared to something like a uniform distribution which is great for performing initial analysis and thus get a rough estimate of the best performing range for the parameter and then focus on it using other distributions.\n",
    "\n",
    "<h3> Setting up RandomizedSearchCV object </h3>\n",
    "We give the function, <br> the model for classification (LogisticRegression)<br> the hyperparameter grid (log_reg_params) <br> n_jobs = Number of jobs to run in parallel (-1 to use all processors) <br> n_iter trades off runtime vs quality of the solution."
   ]
  },
  {
   "cell_type": "code",
   "execution_count": 18,
   "metadata": {
    "colab": {
     "base_uri": "https://localhost:8080/",
     "height": 347
    },
    "colab_type": "code",
    "id": "jbv5FVQ6P9R6",
    "outputId": "21af7faa-eee1-4b02-aac0-b9aaa3a8e877"
   },
   "outputs": [
    {
     "data": {
      "text/plain": [
       "RandomizedSearchCV(cv=None, error_score=nan,\n",
       "                   estimator=LogisticRegression(C=1.0, class_weight=None,\n",
       "                                                dual=False, fit_intercept=True,\n",
       "                                                intercept_scaling=1,\n",
       "                                                l1_ratio=None, max_iter=100,\n",
       "                                                multi_class='auto', n_jobs=None,\n",
       "                                                penalty='l2', random_state=None,\n",
       "                                                solver='lbfgs', tol=0.0001,\n",
       "                                                verbose=0, warm_start=False),\n",
       "                   iid='deprecated', n_iter=50, n_jobs=-1,\n",
       "                   param_distributions={'C': [0.001, 0.004641588833612777,\n",
       "                                              0.021544346900318832, 0.1,\n",
       "                                              0.46415888336127775,\n",
       "                                              2.154434690031882, 10.0,\n",
       "                                              46.41588833612773,\n",
       "                                              215.44346900318823, 1000.0],\n",
       "                                        'penalty': ['l1', 'l2']},\n",
       "                   pre_dispatch='2*n_jobs', random_state=None, refit=True,\n",
       "                   return_train_score=False, scoring=None, verbose=5)"
      ]
     },
     "execution_count": 18,
     "metadata": {
      "tags": []
     },
     "output_type": "execute_result"
    }
   ],
   "source": [
    "from sklearn.linear_model import LogisticRegression\n",
    "from sklearn.model_selection import RandomizedSearchCV\n",
    "\n",
    "# can also add the 'solver' parameter with values of liblinear and saga to the dictionary later 'solver': ['liblinear', 'saga']}\n",
    "\n",
    "rand_log_reg_params = {\"penalty\": ['l1', 'l2'], 'C': list(np.logspace(np.log10(0.001), np.log10(1000), num=10))} \n",
    "# It contains the estimator (LogisticRegression in our case and also the dictionary of hyperparameters)\n",
    "rand_log_reg = RandomizedSearchCV(LogisticRegression(), rand_log_reg_params, n_iter=50, verbose=5, n_jobs=-1)\n",
    "rand_log_reg"
   ]
  },
  {
   "cell_type": "markdown",
   "metadata": {
    "colab_type": "text",
    "id": "jQ0hR0X5P9SE"
   },
   "source": [
    "# Cross Validation\n",
    "# k-Fold Cross Validation Algorithm (used to prevent overfitting)\n",
    "1. Shuffle the dataset randomly.\n",
    "2. Split the dataset into k groups\n",
    "3. For each unique group:\n",
    "    \n",
    "    3.1. Take the group as a hold out or test data set\n",
    "    \n",
    "    3.2. Take the remaining groups as a training data set\n",
    "    \n",
    "    3.3. Fit a model on the training set and evaluate it on the test set\n",
    "    \n",
    "    3.4. Retain the evaluation score and discard the model\n",
    "    \n",
    "4. Summarize the skill of the model using the sample of model evaluation scores\n",
    "\n",
    "# Stratified k-Fold Cross Validation\n",
    "In stratified k-fold cross-validation, the folds are selected so that \"***the mean response value is approximately equal in all the folds***\". In the case of a dichotomous classification, this means that each fold contains roughly the same proportions of the two types of class labels."
   ]
  },
  {
   "cell_type": "code",
   "execution_count": 0,
   "metadata": {
    "colab": {},
    "colab_type": "code",
    "id": "UhDL3OCiP9SG"
   },
   "outputs": [],
   "source": [
    "# Defining lists which will contain various metric values as cross-validation progresses\n",
    "accuracy_lst = []\n",
    "precision_lst = []\n",
    "recall_lst = []\n",
    "f1_lst = []\n",
    "auc_lst = []"
   ]
  },
  {
   "cell_type": "markdown",
   "metadata": {
    "colab_type": "text",
    "id": "yls8R38TP9SP"
   },
   "source": [
    "# Handling imbalance: Undersampling vs Oversampling\n",
    "<h3> Undersampling </h3>\n",
    "Undersampling techniques remove examples from the training dataset that belong to the majority class in order to better balance the class distribution, such as reducing the skew from a 1:100 to a 1:10, 1:2, or even a 1:1 class distribution. \n",
    "\n",
    "<h3> Oversampling </h3>\n",
    "This is different from oversampling that involves adding examples to the minority class in an effort to reduce the skew in the class distribution.\n",
    "\n",
    "Oversampling techniques are generally preferred over Undersampling techniques because they balance the dataset and at the same time do not result in loss of relevant data that Undersampling ends up doing. One of the primary reasons where undersampling comes into picture is when the data is very huge (containing sufficient minority examples) and minimizing cost of the project is a big factor."
   ]
  },
  {
   "cell_type": "markdown",
   "metadata": {
    "colab_type": "text",
    "id": "FKkqZlslP9SR"
   },
   "source": [
    "# SMOTE <a href=\"http://rikunert.com/SMOTE_explained\"> (Reference)</a>\n",
    "One of the most commonly used Oversampling techniques is <b> Synthetic Minority Oversampling Technique - SMOTE </b> <br>\n",
    "\n",
    "SMOTE synthesises new minority instances between existing (real) minority instances.\n",
    "\n",
    "Imagine that SMOTE draws lines between existing minority instances like this.\n",
    "![SMOTE_Visualisation_1.jpg](attachment:SMOTE_Visualisation_1.jpg)\n",
    "\n",
    "SMOTE then imagines new, synthetic minority instances somewhere on these lines.\n",
    "![SMOTE_Visualisation_2.jpg](attachment:SMOTE_Visualisation_2.jpg)"
   ]
  },
  {
   "cell_type": "markdown",
   "metadata": {
    "colab_type": "text",
    "id": "ibNt47Q0P9ST"
   },
   "source": [
    "# Oversampling with Cross-Validation & Data Leakage\n",
    "You have to perform Oversampling within the Cross-Validation itself and not before it, otherwise it would lead to data leakage. \n",
    "\n",
    "This is because it is possible that by Oversampling before, you are pretty much duplicating data from one fold to another, which could end up being in the test fold, and due to this, the test data is not really unseen and it could lead to overfitting.\n",
    "\n",
    "<h3> Oversampling before Cross Validation (Wrong Way) </h3>\n",
    "\n",
    "![Oversampling%20+%20Cross%20Validation.jpg](attachment:Oversampling%20+%20Cross%20Validation.jpg)\n",
    "\n",
    "<h3> Oversampling during Cross Validation (Right Way) </h3>\n",
    "\n",
    "![Oversampling%20in%20Cross%20Validation.jpg](attachment:Oversampling%20in%20Cross%20Validation.jpg)"
   ]
  },
  {
   "cell_type": "code",
   "execution_count": 20,
   "metadata": {
    "colab": {
     "base_uri": "https://localhost:8080/",
     "height": 469
    },
    "colab_type": "code",
    "id": "LJeRw5DwP9SV",
    "outputId": "20327650-4436-46b8-d7c8-6c179556328c"
   },
   "outputs": [
    {
     "name": "stdout",
     "output_type": "stream",
     "text": [
      "Fitting 5 folds for each of 20 candidates, totalling 100 fits\n"
     ]
    },
    {
     "name": "stderr",
     "output_type": "stream",
     "text": [
      "[Parallel(n_jobs=-1)]: Using backend LokyBackend with 2 concurrent workers.\n",
      "[Parallel(n_jobs=-1)]: Done  14 tasks      | elapsed:    9.3s\n",
      "[Parallel(n_jobs=-1)]: Done  68 tasks      | elapsed:  2.0min\n",
      "[Parallel(n_jobs=-1)]: Done 100 out of 100 | elapsed:  3.2min finished\n"
     ]
    },
    {
     "name": "stdout",
     "output_type": "stream",
     "text": [
      "Fitting 5 folds for each of 20 candidates, totalling 100 fits\n"
     ]
    },
    {
     "name": "stderr",
     "output_type": "stream",
     "text": [
      "[Parallel(n_jobs=-1)]: Using backend LokyBackend with 2 concurrent workers.\n",
      "[Parallel(n_jobs=-1)]: Done  18 tasks      | elapsed:   17.4s\n",
      "[Parallel(n_jobs=-1)]: Done  72 tasks      | elapsed:  2.0min\n",
      "[Parallel(n_jobs=-1)]: Done 100 out of 100 | elapsed:  3.0min finished\n"
     ]
    },
    {
     "name": "stdout",
     "output_type": "stream",
     "text": [
      "Fitting 5 folds for each of 20 candidates, totalling 100 fits\n"
     ]
    },
    {
     "name": "stderr",
     "output_type": "stream",
     "text": [
      "[Parallel(n_jobs=-1)]: Using backend LokyBackend with 2 concurrent workers.\n",
      "[Parallel(n_jobs=-1)]: Done  18 tasks      | elapsed:   18.2s\n",
      "[Parallel(n_jobs=-1)]: Done  72 tasks      | elapsed:  1.8min\n",
      "[Parallel(n_jobs=-1)]: Done 100 out of 100 | elapsed:  2.8min finished\n"
     ]
    },
    {
     "name": "stdout",
     "output_type": "stream",
     "text": [
      "Fitting 5 folds for each of 20 candidates, totalling 100 fits\n"
     ]
    },
    {
     "name": "stderr",
     "output_type": "stream",
     "text": [
      "[Parallel(n_jobs=-1)]: Using backend LokyBackend with 2 concurrent workers.\n",
      "[Parallel(n_jobs=-1)]: Done  18 tasks      | elapsed:   18.5s\n",
      "[Parallel(n_jobs=-1)]: Done  72 tasks      | elapsed:  1.9min\n",
      "[Parallel(n_jobs=-1)]: Done 100 out of 100 | elapsed:  2.9min finished\n"
     ]
    },
    {
     "name": "stdout",
     "output_type": "stream",
     "text": [
      "Fitting 5 folds for each of 20 candidates, totalling 100 fits\n"
     ]
    },
    {
     "name": "stderr",
     "output_type": "stream",
     "text": [
      "[Parallel(n_jobs=-1)]: Using backend LokyBackend with 2 concurrent workers.\n",
      "[Parallel(n_jobs=-1)]: Done  18 tasks      | elapsed:   17.6s\n",
      "[Parallel(n_jobs=-1)]: Done  72 tasks      | elapsed:  1.9min\n",
      "[Parallel(n_jobs=-1)]: Done 100 out of 100 | elapsed:  2.9min finished\n"
     ]
    },
    {
     "name": "stdout",
     "output_type": "stream",
     "text": [
      "Cross Validation Oversampling Training with Metric Calculations Completed\n"
     ]
    }
   ],
   "source": [
    "from sklearn.model_selection import StratifiedKFold\n",
    "from imblearn.pipeline import make_pipeline as imbalanced_make_pipeline\n",
    "from imblearn.over_sampling import SMOTE\n",
    "\n",
    "# Stratified 5 Fold\n",
    "sss = StratifiedKFold(n_splits=5, random_state=None)\n",
    "\n",
    "smote_model = SMOTE(sampling_strategy='minority', random_state=42)\n",
    "\n",
    "# Takes a lot of time to execute\n",
    "for train, test in sss.split(X_train, y_train):\n",
    "    # SMOTE happens during Cross Validation not before\n",
    "    pipeline = make_pipeline_imb(SMOTE(sampling_strategy='minority'), rand_log_reg) \n",
    "    \n",
    "    # Time consuming step\n",
    "    model = pipeline.fit(X_train.iloc[train], y_train.iloc[train])\n",
    "    best_est_rand = rand_log_reg.best_estimator_\n",
    "        \n",
    "    # Testing the best estimator (best_est) on the best performing set of parameters (inherently done by predict method)\n",
    "    prediction = best_est_rand.predict(X_train.iloc[test])\n",
    "    \n",
    "    # Appending metric scores to their respective list\n",
    "    accuracy_lst.append(pipeline.score(X_train.iloc[test], y_train.iloc[test]))\n",
    "    precision_lst.append(precision_score(y_train.iloc[test], prediction))\n",
    "    recall_lst.append(recall_score(y_train.iloc[test], prediction))\n",
    "    f1_lst.append(f1_score(y_train.iloc[test], prediction))\n",
    "    auc_lst.append(roc_auc_score(y_train.iloc[test], prediction))\n",
    "\n",
    "print(\"Cross Validation Oversampling Training with Metric Calculations Completed\")\n"
   ]
  },
  {
   "cell_type": "markdown",
   "metadata": {
    "colab_type": "text",
    "id": "6D7aTbQZP9Sd"
   },
   "source": [
    "<h3> Best C Parameters obtained were around 0.0046 - 50, so we'll focus on this range while implementing GridSearch\n",
    "<br><br>Best penalty obtained was l2 in all cases so I've used that for GridSearch </h3>"
   ]
  },
  {
   "cell_type": "code",
   "execution_count": 21,
   "metadata": {
    "colab": {
     "base_uri": "https://localhost:8080/",
     "height": 278
    },
    "colab_type": "code",
    "id": "KJGuHhAkP9Sf",
    "outputId": "d87eb91c-3cf6-4708-f40f-1b80fd359d79"
   },
   "outputs": [
    {
     "data": {
      "text/plain": [
       "{'C': 1000.0,\n",
       " 'class_weight': None,\n",
       " 'dual': False,\n",
       " 'fit_intercept': True,\n",
       " 'intercept_scaling': 1,\n",
       " 'l1_ratio': None,\n",
       " 'max_iter': 100,\n",
       " 'multi_class': 'auto',\n",
       " 'n_jobs': None,\n",
       " 'penalty': 'l2',\n",
       " 'random_state': None,\n",
       " 'solver': 'lbfgs',\n",
       " 'tol': 0.0001,\n",
       " 'verbose': 0,\n",
       " 'warm_start': False}"
      ]
     },
     "execution_count": 21,
     "metadata": {
      "tags": []
     },
     "output_type": "execute_result"
    }
   ],
   "source": [
    "best_est_rand.get_params()"
   ]
  },
  {
   "cell_type": "markdown",
   "metadata": {
    "colab_type": "text",
    "id": "Sf1qSUljP9So"
   },
   "source": [
    "<h2> Printing the mean of the metric measures recorded in the lists </h2>\n",
    "\n",
    "<h3> Average Recall is 91% <br> <br> Average ROC AUC is 94% </h3>"
   ]
  },
  {
   "cell_type": "code",
   "execution_count": 22,
   "metadata": {
    "colab": {
     "base_uri": "https://localhost:8080/",
     "height": 104
    },
    "colab_type": "code",
    "id": "qcXElpTvP9Sq",
    "outputId": "9fe92e6b-38b1-494a-9e8c-80d05f659b18",
    "scrolled": false
   },
   "outputs": [
    {
     "name": "stdout",
     "output_type": "stream",
     "text": [
      "accuracy: 0.9759661173165968\n",
      "precision: 0.0618570428982748\n",
      "recall: 0.9060370009737099\n",
      "f1: 0.11575083922535437\n",
      "roc: 0.9410620783876752\n"
     ]
    }
   ],
   "source": [
    "print(\"accuracy:\", np.mean(accuracy_lst))\n",
    "print(\"precision:\", np.mean(precision_lst))\n",
    "print(\"recall:\", np.mean(recall_lst))\n",
    "print(\"f1:\", np.mean(f1_lst))\n",
    "print(\"roc:\", np.mean(auc_lst))"
   ]
  },
  {
   "cell_type": "markdown",
   "metadata": {
    "colab_type": "text",
    "id": "eEDa0Rj4P9Sz"
   },
   "source": [
    "<h3> On the actual test data X_test, we get Recall Score of 91% for Fraud Class</h3>"
   ]
  },
  {
   "cell_type": "code",
   "execution_count": 23,
   "metadata": {
    "colab": {
     "base_uri": "https://localhost:8080/",
     "height": 139
    },
    "colab_type": "code",
    "id": "sS_NI5MKP9S0",
    "outputId": "47188d2a-d810-48ad-d796-17e2349344de"
   },
   "outputs": [
    {
     "name": "stdout",
     "output_type": "stream",
     "text": [
      "                   pre       rec       spe        f1       geo       iba       sup\n",
      "\n",
      "   No Fraud       1.00      0.97      0.92      0.99      0.95      0.90     56864\n",
      "      Fraud       0.06      0.92      0.97      0.11      0.95      0.89        98\n",
      "\n",
      "avg / total       1.00      0.97      0.92      0.99      0.95      0.90     56962\n",
      "\n"
     ]
    }
   ],
   "source": [
    "labels = ['No Fraud', 'Fraud']\n",
    "rand_log_reg_predictions = best_est_rand.predict(X_test)\n",
    "print(classification_report_imbalanced(y_test, rand_log_reg_predictions, target_names=labels))"
   ]
  },
  {
   "cell_type": "markdown",
   "metadata": {
    "colab_type": "text",
    "id": "oCqT4SC1P9S9"
   },
   "source": [
    "<h3> Average Precision-Recall Score on test data is 74% </h3>"
   ]
  },
  {
   "cell_type": "code",
   "execution_count": 24,
   "metadata": {
    "colab": {
     "base_uri": "https://localhost:8080/",
     "height": 34
    },
    "colab_type": "code",
    "id": "0_mFlUAwP9S_",
    "outputId": "b06beac2-90cf-4f98-8948-21bd2bc5ec66"
   },
   "outputs": [
    {
     "name": "stdout",
     "output_type": "stream",
     "text": [
      "Average precision-recall score: 0.75\n"
     ]
    }
   ],
   "source": [
    "from sklearn.metrics import average_precision_score\n",
    "\n",
    "# In the case of logistic regression, the predict_proba function returns the value of \"f(x)=1/1+e^(−(β0+β1x1+⋯+βkxk))\"\n",
    "# for given input X with k features\n",
    "\n",
    "# The decision function returns the value of \"d(x)=β0+β1x1+⋯+βkxk\"\n",
    "# The predict function returns 1 if value of predict_proba is > 0.5 else 0\n",
    "\n",
    "y_score = best_est_rand.predict_proba(X_test)[:, 1]\n",
    "average_precision = average_precision_score(y_test, y_score)\n",
    "\n",
    "print('Average precision-recall score: {0:0.2f}'.format(average_precision))"
   ]
  },
  {
   "cell_type": "markdown",
   "metadata": {
    "colab_type": "text",
    "id": "tR2oedGFP9TK"
   },
   "source": [
    "<h3> Plotting the Precision-Recall Curve </h3>"
   ]
  },
  {
   "cell_type": "code",
   "execution_count": 25,
   "metadata": {
    "colab": {
     "base_uri": "https://localhost:8080/",
     "height": 436
    },
    "colab_type": "code",
    "id": "E6ETqmCwP9TL",
    "outputId": "c2e2e5a0-3d00-48ce-c57c-e59d116da5be"
   },
   "outputs": [
    {
     "data": {
      "text/plain": [
       "<matplotlib.collections.PolyCollection at 0x7fdceedb7630>"
      ]
     },
     "execution_count": 25,
     "metadata": {
      "tags": []
     },
     "output_type": "execute_result"
    },
    {
     "data": {
      "image/png": "[encoded data removed]",
      "text/plain": [
       "<Figure size 720x432 with 1 Axes>"
      ]
     },
     "metadata": {
      "tags": []
     },
     "output_type": "display_data"
    }
   ],
   "source": [
    "from sklearn.metrics import precision_recall_curve\n",
    "\n",
    "precision, recall, _ = precision_recall_curve(y_test, y_score)\n",
    "\n",
    "precision_recall_df = pd.DataFrame({'precision': precision, 'recall': recall})\n",
    "\n",
    "plot_title = 'Precision-Recall Curve\\nAvg. Precision Recall Score=' + str(average_precision)\n",
    "plt.figure(figsize=(10, 6))\n",
    "sns.lineplot(x='recall',y='precision',data=precision_recall_df)\n",
    "plt.title(plot_title)\n",
    "plt.fill_between(recall, precision, color='lightblue')"
   ]
  },
  {
   "cell_type": "markdown",
   "metadata": {
    "colab_type": "text",
    "id": "s1UBKLuyP9TW"
   },
   "source": [
    "# Plotting the ROC Curve"
   ]
  },
  {
   "cell_type": "code",
   "execution_count": 26,
   "metadata": {
    "colab": {
     "base_uri": "https://localhost:8080/",
     "height": 436
    },
    "colab_type": "code",
    "id": "T6FkYuIcP9Td",
    "outputId": "54b5a7f2-671b-4bfa-d29f-cc94e1cdb6b1"
   },
   "outputs": [
    {
     "data": {
      "text/plain": [
       "Text(0.5, 1.0, 'ROC Curve\\nROC Score = 0.9725518566317917')"
      ]
     },
     "execution_count": 26,
     "metadata": {
      "tags": []
     },
     "output_type": "execute_result"
    },
    {
     "data": {
      "image/png": "[encoded data removed]",
      "text/plain": [
       "<Figure size 720x432 with 1 Axes>"
      ]
     },
     "metadata": {
      "tags": []
     },
     "output_type": "display_data"
    }
   ],
   "source": [
    "from sklearn.metrics import roc_curve\n",
    "\n",
    "\n",
    "false_positive_rate, true_positive_rate, _ = roc_curve(y_test,  y_score)\n",
    "\n",
    "auc = roc_auc_score(y_test, y_score)\n",
    "\n",
    "roc_df = pd.DataFrame({'fpr': false_positive_rate, 'tpr': true_positive_rate})\n",
    "\n",
    "plot_title = 'ROC Curve\\nROC Score = ' + str(auc)\n",
    "\n",
    "plt.figure(figsize=(10, 6))\n",
    "sns.lineplot(x='fpr', y='tpr', data=roc_df)\n",
    "plt.fill_between(roc_df['fpr'], roc_df['tpr'], color='lightblue')\n",
    "plt.title(plot_title)"
   ]
  },
  {
   "cell_type": "code",
   "execution_count": 27,
   "metadata": {
    "colab": {
     "base_uri": "https://localhost:8080/",
     "height": 391
    },
    "colab_type": "code",
    "id": "NAaOc9evP9Tm",
    "outputId": "ddc0ea95-6ecd-466b-88f0-c0f92d661401"
   },
   "outputs": [
    {
     "data": {
      "text/plain": [
       "<matplotlib.axes._subplots.AxesSubplot at 0x7fdceec87ac8>"
      ]
     },
     "execution_count": 27,
     "metadata": {
      "tags": []
     },
     "output_type": "execute_result"
    },
    {
     "data": {
      "image/png": "[encoded data removed]",
      "text/plain": [
       "<Figure size 720x432 with 2 Axes>"
      ]
     },
     "metadata": {
      "tags": []
     },
     "output_type": "display_data"
    }
   ],
   "source": [
    "from sklearn.metrics import confusion_matrix, plot_confusion_matrix\n",
    "\n",
    "confusion_matrix_log_reg = confusion_matrix(y_true=y_test, y_pred=rand_log_reg_predictions)\n",
    "\n",
    "plt.figure(figsize=(10,6))\n",
    "sns.heatmap(confusion_matrix_log_reg, annot=True, cmap='copper', fmt='d')"
   ]
  },
  {
   "cell_type": "markdown",
   "metadata": {
    "colab_type": "text",
    "id": "T7anCBiNP9Tv"
   },
   "source": [
    "# Using GridSearch to Fit the data and comparing with RandomSearch\n"
   ]
  },
  {
   "cell_type": "code",
   "execution_count": 28,
   "metadata": {
    "colab": {
     "base_uri": "https://localhost:8080/",
     "height": 330
    },
    "colab_type": "code",
    "id": "Kij083zrP9Tw",
    "outputId": "5ea2f52a-91d1-4590-a643-7e0f73da58e6"
   },
   "outputs": [
    {
     "data": {
      "text/plain": [
       "GridSearchCV(cv=None, error_score=nan,\n",
       "             estimator=LogisticRegression(C=1.0, class_weight=None, dual=False,\n",
       "                                          fit_intercept=True,\n",
       "                                          intercept_scaling=1, l1_ratio=None,\n",
       "                                          max_iter=100, multi_class='auto',\n",
       "                                          n_jobs=None, penalty='l2',\n",
       "                                          random_state=None, solver='lbfgs',\n",
       "                                          tol=0.0001, verbose=0,\n",
       "                                          warm_start=False),\n",
       "             iid='deprecated', n_jobs=-1,\n",
       "             param_grid={'C': array([1.00000000e-03, 2....90e-03,\n",
       "       1.83298071e-02, 3.79269019e-02, 7.84759970e-02, 1.62377674e-01,\n",
       "       3.35981829e-01, 6.95192796e-01, 1.43844989e+00, 2.97635144e+00,\n",
       "       6.15848211e+00, 1.27427499e+01, 2.63665090e+01, 5.45559478e+01,\n",
       "       1.12883789e+02, 2.33572147e+02, 4.83293024e+02, 1.00000000e+03]),\n",
       "                         'penalty': ['l2']},\n",
       "             pre_dispatch='2*n_jobs', refit=True, return_train_score=False,\n",
       "             scoring=None, verbose=5)"
      ]
     },
     "execution_count": 28,
     "metadata": {
      "tags": []
     },
     "output_type": "execute_result"
    }
   ],
   "source": [
    "from sklearn.model_selection import GridSearchCV\n",
    "\n",
    "# Chose only l2 and logspace from 0 to 50 in order to focus our search\n",
    "grid_log_reg_params = {\"penalty\": ['l2'], 'C': np.logspace(np.log10(0.001), np.log10(1000), 20)}\n",
    "\n",
    "# Creating a GridSearchCV model using the new grid_log_reg_params\n",
    "grid_log_reg = GridSearchCV(LogisticRegression(), grid_log_reg_params, verbose=5, n_jobs=-1)\n",
    "\n",
    "grid_log_reg"
   ]
  },
  {
   "cell_type": "code",
   "execution_count": 0,
   "metadata": {
    "colab": {},
    "colab_type": "code",
    "id": "xwJ8_T2gP9T4"
   },
   "outputs": [],
   "source": [
    "# Redefining metric lists\n",
    "accuracy_lst = []\n",
    "precision_lst = []\n",
    "recall_lst = []\n",
    "f1_lst = []\n",
    "auc_lst = []"
   ]
  },
  {
   "cell_type": "markdown",
   "metadata": {
    "colab_type": "text",
    "id": "_IaV3S7xP9UB"
   },
   "source": [
    "<h3> Performing Cross-Validation and Oversampling again using GridSearch"
   ]
  },
  {
   "cell_type": "code",
   "execution_count": 30,
   "metadata": {
    "colab": {
     "base_uri": "https://localhost:8080/",
     "height": 451
    },
    "colab_type": "code",
    "id": "2CH2fOK8P9UE",
    "outputId": "5583c180-0f9f-4429-f84d-d3a435dc5aee"
   },
   "outputs": [
    {
     "name": "stdout",
     "output_type": "stream",
     "text": [
      "Fitting 5 folds for each of 20 candidates, totalling 100 fits\n"
     ]
    },
    {
     "name": "stderr",
     "output_type": "stream",
     "text": [
      "[Parallel(n_jobs=-1)]: Using backend LokyBackend with 2 concurrent workers.\n",
      "[Parallel(n_jobs=-1)]: Done  14 tasks      | elapsed:   32.1s\n",
      "[Parallel(n_jobs=-1)]: Done  68 tasks      | elapsed:  4.1min\n",
      "[Parallel(n_jobs=-1)]: Done 100 out of 100 | elapsed:  6.2min finished\n"
     ]
    },
    {
     "name": "stdout",
     "output_type": "stream",
     "text": [
      "Fitting 5 folds for each of 20 candidates, totalling 100 fits\n"
     ]
    },
    {
     "name": "stderr",
     "output_type": "stream",
     "text": [
      "[Parallel(n_jobs=-1)]: Using backend LokyBackend with 2 concurrent workers.\n",
      "[Parallel(n_jobs=-1)]: Done  14 tasks      | elapsed:   29.2s\n",
      "[Parallel(n_jobs=-1)]: Done  68 tasks      | elapsed:  3.9min\n",
      "[Parallel(n_jobs=-1)]: Done 100 out of 100 | elapsed:  6.0min finished\n"
     ]
    },
    {
     "name": "stdout",
     "output_type": "stream",
     "text": [
      "Fitting 5 folds for each of 20 candidates, totalling 100 fits\n"
     ]
    },
    {
     "name": "stderr",
     "output_type": "stream",
     "text": [
      "[Parallel(n_jobs=-1)]: Using backend LokyBackend with 2 concurrent workers.\n",
      "[Parallel(n_jobs=-1)]: Done  14 tasks      | elapsed:   31.7s\n",
      "[Parallel(n_jobs=-1)]: Done  68 tasks      | elapsed:  3.6min\n",
      "[Parallel(n_jobs=-1)]: Done 100 out of 100 | elapsed:  5.7min finished\n"
     ]
    },
    {
     "name": "stdout",
     "output_type": "stream",
     "text": [
      "Fitting 5 folds for each of 20 candidates, totalling 100 fits\n"
     ]
    },
    {
     "name": "stderr",
     "output_type": "stream",
     "text": [
      "[Parallel(n_jobs=-1)]: Using backend LokyBackend with 2 concurrent workers.\n",
      "[Parallel(n_jobs=-1)]: Done  14 tasks      | elapsed:   32.3s\n",
      "[Parallel(n_jobs=-1)]: Done  68 tasks      | elapsed:  3.8min\n",
      "[Parallel(n_jobs=-1)]: Done 100 out of 100 | elapsed:  5.9min finished\n"
     ]
    },
    {
     "name": "stdout",
     "output_type": "stream",
     "text": [
      "Fitting 5 folds for each of 20 candidates, totalling 100 fits\n"
     ]
    },
    {
     "name": "stderr",
     "output_type": "stream",
     "text": [
      "[Parallel(n_jobs=-1)]: Using backend LokyBackend with 2 concurrent workers.\n",
      "[Parallel(n_jobs=-1)]: Done  14 tasks      | elapsed:   30.6s\n",
      "[Parallel(n_jobs=-1)]: Done  68 tasks      | elapsed:  3.8min\n",
      "[Parallel(n_jobs=-1)]: Done 100 out of 100 | elapsed:  5.8min finished\n"
     ]
    }
   ],
   "source": [
    "for train, test in sss.split(X_train, y_train):\n",
    "    grid_pipeline = make_pipeline_imb(SMOTE(sampling_strategy='minority'), grid_log_reg) \n",
    "    \n",
    "    # Time consuming step\n",
    "    model = grid_pipeline.fit(X_train.iloc[train], y_train.iloc[train])\n",
    "    best_est_grid = grid_log_reg.best_estimator_\n",
    "        \n",
    "    # Testing the best estimator (best_est) on the best performing set of parameters (inherently done by predict method)\n",
    "    prediction = best_est_grid.predict(X_train.iloc[test])\n",
    "    \n",
    "    # Appending metric scores to their respective list\n",
    "    accuracy_lst.append(grid_pipeline.score(X_train.iloc[test], y_train.iloc[test]))\n",
    "    precision_lst.append(precision_score(y_train.iloc[test], prediction))\n",
    "    recall_lst.append(recall_score(y_train.iloc[test], prediction))\n",
    "    f1_lst.append(f1_score(y_train.iloc[test], prediction))\n",
    "    auc_lst.append(roc_auc_score(y_train.iloc[test], prediction))"
   ]
  },
  {
   "cell_type": "code",
   "execution_count": 31,
   "metadata": {
    "colab": {
     "base_uri": "https://localhost:8080/",
     "height": 104
    },
    "colab_type": "code",
    "id": "Dy4UM3brP9UN",
    "outputId": "573d87c4-f322-4c05-e380-c89d1d092a6f"
   },
   "outputs": [
    {
     "name": "stdout",
     "output_type": "stream",
     "text": [
      "accuracy: 0.9759134499330685\n",
      "precision: 0.06172138977555737\n",
      "recall: 0.9060370009737099\n",
      "f1: 0.11551526053722072\n",
      "roc: 0.941035700075067\n"
     ]
    }
   ],
   "source": [
    "print(\"accuracy:\", np.mean(accuracy_lst))\n",
    "print(\"precision:\", np.mean(precision_lst))\n",
    "print(\"recall:\", np.mean(recall_lst))\n",
    "print(\"f1:\", np.mean(f1_lst))\n",
    "print(\"roc:\", np.mean(auc_lst))"
   ]
  },
  {
   "cell_type": "code",
   "execution_count": 32,
   "metadata": {
    "colab": {
     "base_uri": "https://localhost:8080/",
     "height": 295
    },
    "colab_type": "code",
    "id": "vWGV44Y9P9UT",
    "outputId": "b1e21753-2a35-4e6e-bb8d-7efcbc922db4"
   },
   "outputs": [
    {
     "name": "stdout",
     "output_type": "stream",
     "text": [
      "Classification Report for RandomSearchCV\n",
      "                   pre       rec       spe        f1       geo       iba       sup\n",
      "\n",
      "          0       1.00      0.97      0.92      0.99      0.95      0.90     56864\n",
      "          1       0.06      0.92      0.97      0.11      0.95      0.89        98\n",
      "\n",
      "avg / total       1.00      0.97      0.92      0.99      0.95      0.90     56962\n",
      "\n",
      "Classification Report for GridSearchCV\n",
      "                   pre       rec       spe        f1       geo       iba       sup\n",
      "\n",
      "          0       1.00      0.97      0.92      0.99      0.95      0.90     56864\n",
      "          1       0.06      0.92      0.97      0.11      0.95      0.89        98\n",
      "\n",
      "avg / total       1.00      0.97      0.92      0.99      0.95      0.90     56962\n",
      "\n"
     ]
    }
   ],
   "source": [
    "grid_log_reg_predictions = best_est_grid.predict(X_test)\n",
    "\n",
    "print(\"Classification Report for RandomSearchCV\")\n",
    "print(classification_report_imbalanced(y_true=y_test, y_pred=rand_log_reg_predictions))\n",
    "\n",
    "print(\"Classification Report for GridSearchCV\")\n",
    "print(classification_report_imbalanced(y_true=y_test, y_pred=grid_log_reg_predictions))\n"
   ]
  },
  {
   "cell_type": "markdown",
   "metadata": {
    "colab_type": "text",
    "id": "bWuhAR3RP9Ua"
   },
   "source": [
    "<h3> Sadly, there was no improvement in the score, but oh well atleast I tried"
   ]
  },
  {
   "cell_type": "code",
   "execution_count": 33,
   "metadata": {
    "colab": {
     "base_uri": "https://localhost:8080/",
     "height": 391
    },
    "colab_type": "code",
    "id": "CLUZ_HltP9Ua",
    "outputId": "c23c65b6-ab7d-4279-c5cf-b72294f56623"
   },
   "outputs": [
    {
     "data": {
      "text/plain": [
       "<matplotlib.axes._subplots.AxesSubplot at 0x7fdceec63d68>"
      ]
     },
     "execution_count": 33,
     "metadata": {
      "tags": []
     },
     "output_type": "execute_result"
    },
    {
     "data": {
      "image/png": "[encoded data removed]",
      "text/plain": [
       "<Figure size 720x432 with 2 Axes>"
      ]
     },
     "metadata": {
      "tags": []
     },
     "output_type": "display_data"
    }
   ],
   "source": [
    "from sklearn.metrics import confusion_matrix\n",
    "\n",
    "confusion_matrix_log_reg = confusion_matrix(y_true=y_test, y_pred=grid_log_reg_predictions)\n",
    "\n",
    "plt.figure(figsize=(10,6))\n",
    "sns.heatmap(confusion_matrix_log_reg, annot=True, cmap='copper', fmt='d')"
   ]
  },
  {
   "cell_type": "markdown",
   "metadata": {
    "colab_type": "text",
    "id": "YZor3snMP9U7"
   },
   "source": [
    "<h2> Average Precision-Recall Score on test data is 74% </h2>"
   ]
  },
  {
   "cell_type": "code",
   "execution_count": 34,
   "metadata": {
    "colab": {
     "base_uri": "https://localhost:8080/",
     "height": 34
    },
    "colab_type": "code",
    "id": "q6DNGcyWP9U8",
    "outputId": "f0d444d4-7973-4e69-fd97-b9ddce1b861c"
   },
   "outputs": [
    {
     "data": {
      "text/plain": [
       "0.7526201967104448"
      ]
     },
     "execution_count": 34,
     "metadata": {
      "tags": []
     },
     "output_type": "execute_result"
    }
   ],
   "source": [
    "y_score = best_est_grid.predict_proba(X_test)[:, 1]\n",
    "\n",
    "average_precision_score(y_test, y_score)"
   ]
  },
  {
   "cell_type": "markdown",
   "metadata": {
    "colab_type": "text",
    "id": "zSJdN7rZP9VG"
   },
   "source": [
    "<h2> Average ROC AUC Score on test data is 98% </h2>"
   ]
  },
  {
   "cell_type": "code",
   "execution_count": 35,
   "metadata": {
    "colab": {
     "base_uri": "https://localhost:8080/",
     "height": 34
    },
    "colab_type": "code",
    "id": "BT13jh_5P9VH",
    "outputId": "2645b60d-749d-4b05-ed53-dc7b8fb754c2"
   },
   "outputs": [
    {
     "data": {
      "text/plain": [
       "0.9724493923202371"
      ]
     },
     "execution_count": 35,
     "metadata": {
      "tags": []
     },
     "output_type": "execute_result"
    }
   ],
   "source": [
    "roc_auc_score(y_test, y_score)"
   ]
  },
  {
   "cell_type": "markdown",
   "metadata": {
    "colab_type": "text",
    "id": "UikspdentlhM"
   },
   "source": [
    "# Support Vector Machine Implementation"
   ]
  },
  {
   "cell_type": "code",
   "execution_count": 36,
   "metadata": {
    "colab": {
     "base_uri": "https://localhost:8080/",
     "height": 86
    },
    "colab_type": "code",
    "id": "bWrlxOkdJJ-o",
    "outputId": "0616fc6b-35b8-4dd7-d8fc-8aa55a7cbc49"
   },
   "outputs": [
    {
     "data": {
      "text/plain": [
       "SVC(C=1.0, break_ties=False, cache_size=200, class_weight=None, coef0=0.0,\n",
       "    decision_function_shape='ovr', degree=3, gamma='scale', kernel='rbf',\n",
       "    max_iter=-1, probability=False, random_state=None, shrinking=True,\n",
       "    tol=0.001, verbose=False)"
      ]
     },
     "execution_count": 36,
     "metadata": {
      "tags": []
     },
     "output_type": "execute_result"
    }
   ],
   "source": [
    "from sklearn.svm import SVC # Import Support Vector Classifier from sklearn\n",
    "\n",
    "clas = SVC() # Make a SVC Object\n",
    "clas.fit(X_train, y_train) # Fit the training data"
   ]
  },
  {
   "cell_type": "code",
   "execution_count": 38,
   "metadata": {
    "colab": {
     "base_uri": "https://localhost:8080/",
     "height": 139
    },
    "colab_type": "code",
    "id": "LXnCKYguepJJ",
    "outputId": "24addba3-5006-41f7-afe3-833e75fb184f"
   },
   "outputs": [
    {
     "name": "stdout",
     "output_type": "stream",
     "text": [
      "                   pre       rec       spe        f1       geo       iba       sup\n",
      "\n",
      "   No Fraud       1.00      1.00      0.77      1.00      0.87      0.78     56864\n",
      "      Fraud       0.95      0.77      1.00      0.85      0.87      0.75        98\n",
      "\n",
      "avg / total       1.00      1.00      0.77      1.00      0.87      0.78     56962\n",
      "\n"
     ]
    }
   ],
   "source": [
    "# Predicting Classes of test cases \n",
    "predicted = clas.predict(X_test) \n",
    "\n",
    "# Printing the classification report. F1 score, precision and recall\n",
    "# print(classification_report(y_test, predicted))\n",
    "labels = ['No Fraud', 'Fraud']\n",
    "rand_log_reg_predictions = best_est_rand.predict(X_test)\n",
    "print(classification_report_imbalanced(y_test, predicted, target_names=labels))"
   ]
  },
  {
   "cell_type": "markdown",
   "metadata": {
    "colab_type": "text",
    "id": "_NWWjc8yC4e0"
   },
   "source": [
    "Doesnt Work after this."
   ]
  },
  {
   "cell_type": "code",
   "execution_count": 41,
   "metadata": {
    "colab": {
     "base_uri": "https://localhost:8080/",
     "height": 225
    },
    "colab_type": "code",
    "id": "JpK6pCHz_nvj",
    "outputId": "84491b8e-ea0d-4106-d047-c8fb7a0f4fc1"
   },
   "outputs": [
    {
     "data": {
      "text/plain": [
       "RandomizedSearchCV(cv=3, error_score=nan,\n",
       "                   estimator=SVC(C=1.0, break_ties=False, cache_size=200,\n",
       "                                 class_weight=None, coef0=0.0,\n",
       "                                 decision_function_shape='ovr', degree=3,\n",
       "                                 gamma='scale', kernel='rbf', max_iter=-1,\n",
       "                                 probability=False, random_state=None,\n",
       "                                 shrinking=True, tol=0.001, verbose=False),\n",
       "                   iid='deprecated', n_iter=20, n_jobs=4,\n",
       "                   param_distributions={'C': array([2, 4, 6, 8]),\n",
       "                                        'gamma': array([0.1, 0.3, 0.5, 0.7, 0.9])},\n",
       "                   pre_dispatch='2*n_jobs', random_state=2017, refit=True,\n",
       "                   return_train_score=False, scoring=None, verbose=0)"
      ]
     },
     "execution_count": 41,
     "metadata": {
      "tags": []
     },
     "output_type": "execute_result"
    }
   ],
   "source": [
    "from sklearn.svm import SVC\n",
    "from sklearn.model_selection import RandomizedSearchCV\n",
    "\n",
    "# can also add the 'solver' parameter with values of liblinear and saga to the dictionary later 'solver': ['liblinear', 'saga']}\n",
    "\n",
    "rand_list =  {\"C\": np.arange(2, 10, 2), \"gamma\": np.arange(0.1, 1, 0.2)}\n",
    "# It contains the estimator (LogisticRegression in our case and also the dictionary of hyperparameters)\n",
    "rand_log_reg = RandomizedSearchCV(SVC(), rand_log_reg_params, n_iter=50, verbose=5, n_jobs=-1)\n",
    "rand_log_reg = RandomizedSearchCV(SVC(), param_distributions = rand_list, n_iter = 20, n_jobs = 4, cv = 3, random_state = 2017) \n",
    "rand_log_reg"
   ]
  },
  {
   "cell_type": "code",
   "execution_count": 0,
   "metadata": {
    "colab": {},
    "colab_type": "code",
    "id": "tJfBQNx6_Ls7"
   },
   "outputs": [],
   "source": [
    "pipeline = make_pipeline_imb(SMOTE(sampling_strategy='minority'), rand_log_reg) \n",
    "    \n",
    "# Time consuming step\n",
    "model = pipeline.fit(X_train, y_train)\n",
    "best_est_rand = rand_log_reg.best_estimator_\n",
    "\n",
    "# Testing the best estimator (best_est) on the best performing set of parameters (inherently done by predict method)\n",
    "prediction = best_est_rand.predict(X_test)\n",
    "\n",
    "\n",
    "print(\"Classification Report for RandomSearchCV\")\n",
    "print(classification_report_imbalanced(y_true=y_test, y_pred=predictions))"
   ]
  },
  {
   "cell_type": "markdown",
   "metadata": {
    "colab_type": "text",
    "id": "Lv2_T6gKDBKO"
   },
   "source": [
    "# KNN Classifier"
   ]
  },
  {
   "cell_type": "code",
   "execution_count": 0,
   "metadata": {
    "colab": {
     "base_uri": "https://localhost:8080/",
     "height": 799
    },
    "colab_type": "code",
    "id": "DBamFU6tDCoL",
    "outputId": "2505d2a0-fa00-4052-fbe3-015091143a7c"
   },
   "outputs": [
    {
     "name": "stdout",
     "output_type": "stream",
     "text": [
      "For k= 1 accuracy= 0.9994557775359011 recall= 0.826530612244898 f1= 0.839378238341969\n",
      "For k= 2 accuracy= 0.9995611109160493 recall= 0.7551020408163265 f1= 0.8554913294797689\n",
      "For k= 3 accuracy= 0.9995786664794073 recall= 0.7959183673469388 f1= 0.8666666666666666\n",
      "For k= 4 accuracy= 0.9994733330992591 recall= 0.7346938775510204 f1= 0.8275862068965517\n",
      "For k= 5 accuracy= 0.9995084442259752 recall= 0.7551020408163265 f1= 0.8409090909090908\n",
      "For k= 6 accuracy= 0.999403110845827 recall= 0.6938775510204082 f1= 0.7999999999999999\n",
      "For k= 7 accuracy= 0.999385555282469 recall= 0.7142857142857143 f1= 0.8\n",
      "For k= 8 accuracy= 0.9993679997191109 recall= 0.6938775510204082 f1= 0.7906976744186046\n",
      "For k= 9 accuracy= 0.999385555282469 recall= 0.7244897959183674 f1= 0.8022598870056498\n",
      "For k= 10 accuracy= 0.999385555282469 recall= 0.6938775510204082 f1= 0.7953216374269005\n",
      "For k= 11 accuracy= 0.999385555282469 recall= 0.7346938775510204 f1= 0.8044692737430168\n",
      "For k= 12 accuracy= 0.999385555282469 recall= 0.7244897959183674 f1= 0.8022598870056498\n",
      "For k= 13 accuracy= 0.9993328885923949 recall= 0.7346938775510204 f1= 0.7912087912087913\n",
      "For k= 14 accuracy= 0.9992977774656788 recall= 0.7040816326530612 f1= 0.7752808988764046\n",
      "For k= 15 accuracy= 0.9992977774656788 recall= 0.7142857142857143 f1= 0.7777777777777778\n",
      "For k= 16 accuracy= 0.9992977774656788 recall= 0.6938775510204082 f1= 0.7727272727272728\n",
      "For k= 17 accuracy= 0.9993328885923949 recall= 0.7142857142857143 f1= 0.7865168539325842\n",
      "For k= 18 accuracy= 0.9992977774656788 recall= 0.6938775510204082 f1= 0.7727272727272728\n",
      "For k= 19 accuracy= 0.9993328885923949 recall= 0.7142857142857143 f1= 0.7865168539325842\n",
      "For k= 20 accuracy= 0.9993153330290369 recall= 0.7040816326530612 f1= 0.7796610169491525\n",
      "For k= 21 accuracy= 0.9993153330290369 recall= 0.7142857142857143 f1= 0.7821229050279329\n",
      "For k= 22 accuracy= 0.9992977774656788 recall= 0.7040816326530612 f1= 0.7752808988764046\n",
      "For k= 23 accuracy= 0.9993328885923949 recall= 0.7244897959183674 f1= 0.788888888888889\n",
      "For k= 24 accuracy= 0.9993153330290369 recall= 0.7142857142857143 f1= 0.7821229050279329\n",
      "For k= 25 accuracy= 0.9993153330290369 recall= 0.7142857142857143 f1= 0.7821229050279329\n",
      "For k= 26 accuracy= 0.9993153330290369 recall= 0.7142857142857143 f1= 0.7821229050279329\n",
      "For k= 27 accuracy= 0.9993328885923949 recall= 0.7244897959183674 f1= 0.788888888888889\n",
      "For k= 28 accuracy= 0.9993504441557529 recall= 0.7244897959183674 f1= 0.793296089385475\n",
      "For k= 29 accuracy= 0.9993504441557529 recall= 0.7244897959183674 f1= 0.793296089385475\n",
      "For k= 30 accuracy= 0.9993328885923949 recall= 0.7142857142857143 f1= 0.7865168539325842\n",
      "For k= 31 accuracy= 0.9993328885923949 recall= 0.7142857142857143 f1= 0.7865168539325842\n",
      "For k= 32 accuracy= 0.9993328885923949 recall= 0.7142857142857143 f1= 0.7865168539325842\n",
      "For k= 33 accuracy= 0.9993328885923949 recall= 0.7142857142857143 f1= 0.7865168539325842\n",
      "For k= 34 accuracy= 0.9993504441557529 recall= 0.7142857142857143 f1= 0.7909604519774011\n",
      "For k= 35 accuracy= 0.9993504441557529 recall= 0.7142857142857143 f1= 0.7909604519774011\n",
      "For k= 36 accuracy= 0.9993328885923949 recall= 0.7040816326530612 f1= 0.7840909090909091\n",
      "For k= 37 accuracy= 0.9993504441557529 recall= 0.7142857142857143 f1= 0.7909604519774011\n",
      "For k= 38 accuracy= 0.9993328885923949 recall= 0.7040816326530612 f1= 0.7840909090909091\n",
      "For k= 39 accuracy= 0.9993504441557529 recall= 0.7142857142857143 f1= 0.7909604519774011\n",
      "For k= 40 accuracy= 0.9993504441557529 recall= 0.7142857142857143 f1= 0.7909604519774011\n",
      "For k= 41 accuracy= 0.9993328885923949 recall= 0.7142857142857143 f1= 0.7865168539325842\n",
      "For k= 42 accuracy= 0.9993328885923949 recall= 0.7142857142857143 f1= 0.7865168539325842\n",
      "For k= 43 accuracy= 0.9993328885923949 recall= 0.7142857142857143 f1= 0.7865168539325842\n",
      "For k= 44 accuracy= 0.9993328885923949 recall= 0.7142857142857143 f1= 0.7865168539325842\n",
      "For k= 45 accuracy= 0.9993153330290369 recall= 0.7142857142857143 f1= 0.7821229050279329\n"
     ]
    }
   ],
   "source": [
    "from sklearn.neighbors import KNeighborsClassifier\n",
    "from sklearn.metrics import accuracy_score, recall_score, f1_score, precision_score\n",
    "\n",
    "accuracy = []\n",
    "recall = []\n",
    "precision = []\n",
    "f1 = []\n",
    "for k in range(1, 51):\n",
    "    knn = KNeighborsClassifier(n_neighbors=k)\n",
    "    knn.fit(X_train, y_train)\n",
    "    predictions = knn.predict(X_test)\n",
    "    accuracy.append(accuracy_score(y_test, predictions))\n",
    "    recall.append(recall_score(y_test, predictions))\n",
    "    f1.append(f1_score(y_test, predictions))\n",
    "    precision(precision_score(y_test, predictions))\n",
    "    print(\"For k=\", k, \"accuracy=\", accuracy[-1], \"precision=\", precision[-1], \"recall=\", recall[-1], \"f1=\", f1[-1])"
   ]
  },
  {
   "cell_type": "code",
   "execution_count": 0,
   "metadata": {
    "colab": {},
    "colab_type": "code",
    "id": "WynDkQarDHlz"
   },
   "outputs": [],
   "source": [
    "# To plot the Metrics against values of k\n",
    "plt.figure(figsize=(10,6))\n",
    "plt.plot(range(1,51), accuracy, linestyle='--', marker='o', markerfacecolor='red', color='blue')\n",
    "plt.plot(range(1,51), precision, linestyle='--', marker='o', markerfacecolor='red', color='green')\n",
    "plt.plot(range(1,51), recall, linestyle='--', marker='o', markerfacecolor='red', color='yellow')\n",
    "plt.plot(range(1,51), f1, linestyle='--', marker='o', markerfacecolor='red', color='black')"
   ]
  }
 ],
 "metadata": {
  "colab": {
   "collapsed_sections": [
    "37D3-g0lP9Q-",
    "GI7aJJOQP9R0",
    "84FVHlcHP9R2",
    "jQ0hR0X5P9SE",
    "yls8R38TP9SP",
    "FKkqZlslP9SR"
   ],
   "name": "Copy of Credit Card Fraud Detection.ipynb",
   "provenance": []
  },
  "kernelspec": {
   "display_name": "Python 3",
   "language": "python",
   "name": "python3"
  },
  "language_info": {
   "codemirror_mode": {
    "name": "ipython",
    "version": 3
   },
   "file_extension": ".py",
   "mimetype": "text/x-python",
   "name": "python",
   "nbconvert_exporter": "python",
   "pygments_lexer": "ipython3",
   "version": "3.6.9"
  }
 },
 "nbformat": 4,
 "nbformat_minor": 1
}
